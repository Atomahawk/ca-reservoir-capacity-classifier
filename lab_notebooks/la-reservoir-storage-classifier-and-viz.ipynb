{
 "cells": [
  {
   "cell_type": "markdown",
   "metadata": {},
   "source": [
    "# LA RESERVOIRS CLASSIFIER"
   ]
  },
  {
   "cell_type": "markdown",
   "metadata": {},
   "source": [
    "## Import Dependencies"
   ]
  },
  {
   "cell_type": "code",
   "execution_count": 1,
   "metadata": {},
   "outputs": [
    {
     "name": "stderr",
     "output_type": "stream",
     "text": [
      "/Users/eastblue/anaconda/lib/python3.6/site-packages/sklearn/cross_validation.py:44: DeprecationWarning: This module was deprecated in version 0.18 in favor of the model_selection module into which all the refactored classes and functions are moved. Also note that the interface of the new CV iterators are different from that of this module. This module will be removed in 0.20.\n",
      "  \"This module will be removed in 0.20.\", DeprecationWarning)\n"
     ]
    }
   ],
   "source": [
    "import sys\n",
    "import os\n",
    "import pandas as pd\n",
    "import numpy as np\n",
    "import matplotlib\n",
    "import matplotlib.pyplot as plt\n",
    "import seaborn as sns\n",
    "import pickle\n",
    "import re\n",
    "from datetime import datetime\n",
    "from datetime import timedelta\n",
    "from sklearn.model_selection import train_test_split\n",
    "\n",
    "from sklearn.linear_model import LogisticRegression\n",
    "from sklearn.neighbors import KNeighborsClassifier\n",
    "from sklearn.naive_bayes import GaussianNB\n",
    "from sklearn.svm import SVC\n",
    "from sklearn.tree import DecisionTreeClassifier\n",
    "from sklearn.ensemble import RandomForestClassifier, AdaBoostClassifier\n",
    "from sklearn.neural_network import MLPClassifier\n",
    "from sklearn.metrics import accuracy_score, precision_score, recall_score, f1_score, roc_curve, roc_auc_score, classification_report\n",
    "from sklearn.cross_validation import cross_val_score\n",
    "\n",
    "% matplotlib inline\n",
    "\n",
    "import warnings\n",
    "warnings.filterwarnings('ignore')"
   ]
  },
  {
   "cell_type": "code",
   "execution_count": 2,
   "metadata": {},
   "outputs": [
    {
     "name": "stdout",
     "output_type": "stream",
     "text": [
      "Python Version: 3.6.1 |Anaconda custom (x86_64)| (default, Mar 22 2017, 19:25:17) \n",
      "[GCC 4.2.1 Compatible Apple LLVM 6.0 (clang-600.0.57)]\n"
     ]
    },
    {
     "data": {
      "application/json": {
       "Software versions": [
        {
         "module": "Python",
         "version": "3.6.1 64bit [GCC 4.2.1 Compatible Apple LLVM 6.0 (clang-600.0.57)]"
        },
        {
         "module": "IPython",
         "version": "5.1.0"
        },
        {
         "module": "OS",
         "version": "Darwin 16.5.0 x86_64 i386 64bit"
        },
        {
         "module": "numpy",
         "version": "1.12.1"
        },
        {
         "module": "scipy",
         "version": "0.19.0"
        },
        {
         "module": "pandas",
         "version": "0.19.2"
        },
        {
         "module": "matplotlib",
         "version": "2.0.0"
        },
        {
         "module": "seaborn",
         "version": "0.7.1"
        },
        {
         "module": "sklearn",
         "version": "0.18.1"
        }
       ]
      },
      "text/html": [
       "<table><tr><th>Software</th><th>Version</th></tr><tr><td>Python</td><td>3.6.1 64bit [GCC 4.2.1 Compatible Apple LLVM 6.0 (clang-600.0.57)]</td></tr><tr><td>IPython</td><td>5.1.0</td></tr><tr><td>OS</td><td>Darwin 16.5.0 x86_64 i386 64bit</td></tr><tr><td>numpy</td><td>1.12.1</td></tr><tr><td>scipy</td><td>0.19.0</td></tr><tr><td>pandas</td><td>0.19.2</td></tr><tr><td>matplotlib</td><td>2.0.0</td></tr><tr><td>seaborn</td><td>0.7.1</td></tr><tr><td>sklearn</td><td>0.18.1</td></tr><tr><td colspan='2'>Tue May 16 19:54:52 2017 PDT</td></tr></table>"
      ],
      "text/latex": [
       "\\begin{tabular}{|l|l|}\\hline\n",
       "{\\bf Software} & {\\bf Version} \\\\ \\hline\\hline\n",
       "Python & 3.6.1 64bit [GCC 4.2.1 Compatible Apple LLVM 6.0 (clang-600.0.57)] \\\\ \\hline\n",
       "IPython & 5.1.0 \\\\ \\hline\n",
       "OS & Darwin 16.5.0 x86\\_64 i386 64bit \\\\ \\hline\n",
       "numpy & 1.12.1 \\\\ \\hline\n",
       "scipy & 0.19.0 \\\\ \\hline\n",
       "pandas & 0.19.2 \\\\ \\hline\n",
       "matplotlib & 2.0.0 \\\\ \\hline\n",
       "seaborn & 0.7.1 \\\\ \\hline\n",
       "sklearn & 0.18.1 \\\\ \\hline\n",
       "\\hline \\multicolumn{2}{|l|}{Tue May 16 19:54:52 2017 PDT} \\\\ \\hline\n",
       "\\end{tabular}\n"
      ],
      "text/plain": [
       "Software versions\n",
       "Python 3.6.1 64bit [GCC 4.2.1 Compatible Apple LLVM 6.0 (clang-600.0.57)]\n",
       "IPython 5.1.0\n",
       "OS Darwin 16.5.0 x86_64 i386 64bit\n",
       "numpy 1.12.1\n",
       "scipy 0.19.0\n",
       "pandas 0.19.2\n",
       "matplotlib 2.0.0\n",
       "seaborn 0.7.1\n",
       "sklearn 0.18.1\n",
       "Tue May 16 19:54:52 2017 PDT"
      ]
     },
     "execution_count": 2,
     "metadata": {},
     "output_type": "execute_result"
    }
   ],
   "source": [
    "print(\"Python Version:\", sys.version)\n",
    "%reload_ext version_information\n",
    "%version_information numpy, scipy, pandas, matplotlib, seaborn, sklearn"
   ]
  },
  {
   "cell_type": "markdown",
   "metadata": {},
   "source": [
    "# SHAPE DATA:\n",
    "## Build dataframe for storage_af values"
   ]
  },
  {
   "cell_type": "code",
   "execution_count": 3,
   "metadata": {},
   "outputs": [
    {
     "data": {
      "text/html": [
       "<div>\n",
       "<table border=\"1\" class=\"dataframe\">\n",
       "  <thead>\n",
       "    <tr style=\"text-align: right;\">\n",
       "      <th></th>\n",
       "      <th>DATE</th>\n",
       "      <th>BRV</th>\n",
       "      <th>CAS</th>\n",
       "      <th>CGS</th>\n",
       "      <th>DMV</th>\n",
       "      <th>MHW</th>\n",
       "      <th>PRR</th>\n",
       "      <th>PRU</th>\n",
       "      <th>PYM</th>\n",
       "      <th>RLC</th>\n",
       "      <th>SGB</th>\n",
       "      <th>SGC</th>\n",
       "      <th>SKN</th>\n",
       "      <th>SLW</th>\n",
       "      <th>SVO</th>\n",
       "    </tr>\n",
       "  </thead>\n",
       "  <tbody>\n",
       "    <tr>\n",
       "      <th>0</th>\n",
       "      <td>6/1/00</td>\n",
       "      <td>0.80419</td>\n",
       "      <td>0.95060</td>\n",
       "      <td>0.44565</td>\n",
       "      <td>0.26514</td>\n",
       "      <td>0.79516</td>\n",
       "      <td>0.85646</td>\n",
       "      <td>0.735</td>\n",
       "      <td>0.87709</td>\n",
       "      <td>0.90958</td>\n",
       "      <td>0.62753</td>\n",
       "      <td>0.3370</td>\n",
       "      <td>0.86686</td>\n",
       "      <td>0.97986</td>\n",
       "      <td>0.02023</td>\n",
       "    </tr>\n",
       "    <tr>\n",
       "      <th>1</th>\n",
       "      <td>7/1/00</td>\n",
       "      <td>0.77514</td>\n",
       "      <td>0.92983</td>\n",
       "      <td>0.37853</td>\n",
       "      <td>0.28669</td>\n",
       "      <td>0.71482</td>\n",
       "      <td>0.84980</td>\n",
       "      <td>0.739</td>\n",
       "      <td>0.91191</td>\n",
       "      <td>0.84966</td>\n",
       "      <td>0.46303</td>\n",
       "      <td>0.2434</td>\n",
       "      <td>0.74871</td>\n",
       "      <td>0.96921</td>\n",
       "      <td>0.02023</td>\n",
       "    </tr>\n",
       "    <tr>\n",
       "      <th>2</th>\n",
       "      <td>8/1/00</td>\n",
       "      <td>0.75507</td>\n",
       "      <td>0.91235</td>\n",
       "      <td>0.31787</td>\n",
       "      <td>0.30107</td>\n",
       "      <td>0.63114</td>\n",
       "      <td>0.84565</td>\n",
       "      <td>0.741</td>\n",
       "      <td>0.89366</td>\n",
       "      <td>0.79580</td>\n",
       "      <td>0.25209</td>\n",
       "      <td>0.2424</td>\n",
       "      <td>0.76545</td>\n",
       "      <td>0.95040</td>\n",
       "      <td>0.02023</td>\n",
       "    </tr>\n",
       "    <tr>\n",
       "      <th>3</th>\n",
       "      <td>9/1/00</td>\n",
       "      <td>1.00000</td>\n",
       "      <td>0.88022</td>\n",
       "      <td>0.25711</td>\n",
       "      <td>0.32553</td>\n",
       "      <td>0.56074</td>\n",
       "      <td>0.84101</td>\n",
       "      <td>0.569</td>\n",
       "      <td>0.91311</td>\n",
       "      <td>0.74361</td>\n",
       "      <td>0.17000</td>\n",
       "      <td>0.2524</td>\n",
       "      <td>0.93964</td>\n",
       "      <td>0.95823</td>\n",
       "      <td>0.02023</td>\n",
       "    </tr>\n",
       "    <tr>\n",
       "      <th>4</th>\n",
       "      <td>10/1/00</td>\n",
       "      <td>1.00000</td>\n",
       "      <td>0.83506</td>\n",
       "      <td>0.19010</td>\n",
       "      <td>0.37187</td>\n",
       "      <td>0.50705</td>\n",
       "      <td>0.83373</td>\n",
       "      <td>0.388</td>\n",
       "      <td>0.91936</td>\n",
       "      <td>0.71244</td>\n",
       "      <td>0.14619</td>\n",
       "      <td>0.2450</td>\n",
       "      <td>0.89305</td>\n",
       "      <td>0.94899</td>\n",
       "      <td>0.02023</td>\n",
       "    </tr>\n",
       "  </tbody>\n",
       "</table>\n",
       "</div>"
      ],
      "text/plain": [
       "      DATE      BRV      CAS      CGS      DMV      MHW      PRR    PRU  \\\n",
       "0   6/1/00  0.80419  0.95060  0.44565  0.26514  0.79516  0.85646  0.735   \n",
       "1   7/1/00  0.77514  0.92983  0.37853  0.28669  0.71482  0.84980  0.739   \n",
       "2   8/1/00  0.75507  0.91235  0.31787  0.30107  0.63114  0.84565  0.741   \n",
       "3   9/1/00  1.00000  0.88022  0.25711  0.32553  0.56074  0.84101  0.569   \n",
       "4  10/1/00  1.00000  0.83506  0.19010  0.37187  0.50705  0.83373  0.388   \n",
       "\n",
       "       PYM      RLC      SGB     SGC      SKN      SLW      SVO  \n",
       "0  0.87709  0.90958  0.62753  0.3370  0.86686  0.97986  0.02023  \n",
       "1  0.91191  0.84966  0.46303  0.2434  0.74871  0.96921  0.02023  \n",
       "2  0.89366  0.79580  0.25209  0.2424  0.76545  0.95040  0.02023  \n",
       "3  0.91311  0.74361  0.17000  0.2524  0.93964  0.95823  0.02023  \n",
       "4  0.91936  0.71244  0.14619  0.2450  0.89305  0.94899  0.02023  "
      ]
     },
     "execution_count": 3,
     "metadata": {},
     "output_type": "execute_result"
    }
   ],
   "source": [
    "file_path = 'StorageAF_res_columns_final.csv'\n",
    "# file_path = 'StorageAF_rotated.csv'\n",
    "raw_df = pd.read_csv(file_path)\n",
    "raw_df.head()"
   ]
  },
  {
   "cell_type": "code",
   "execution_count": 4,
   "metadata": {
    "collapsed": true
   },
   "outputs": [],
   "source": [
    "raw_df['DATE'] = pd.to_datetime(raw_df.DATE, format = '%m/%d/%y')"
   ]
  },
  {
   "cell_type": "code",
   "execution_count": 5,
   "metadata": {},
   "outputs": [
    {
     "data": {
      "text/plain": [
       "['BRV',\n",
       " 'CAS',\n",
       " 'CGS',\n",
       " 'DMV',\n",
       " 'MHW',\n",
       " 'PRR',\n",
       " 'PRU',\n",
       " 'PYM',\n",
       " 'RLC',\n",
       " 'SGB',\n",
       " 'SGC',\n",
       " 'SKN',\n",
       " 'SLW',\n",
       " 'SVO']"
      ]
     },
     "execution_count": 5,
     "metadata": {},
     "output_type": "execute_result"
    }
   ],
   "source": [
    "reservoirs = list(raw_df.columns[1:])\n",
    "reservoirs"
   ]
  },
  {
   "cell_type": "code",
   "execution_count": 6,
   "metadata": {},
   "outputs": [
    {
     "data": {
      "text/plain": [
       "['year_summer',\n",
       " 'month_10',\n",
       " 'month_11',\n",
       " 'month_12',\n",
       " 'month_1',\n",
       " 'month_2',\n",
       " 'month_3',\n",
       " 'month_4',\n",
       " 'month_5',\n",
       " 'month_6',\n",
       " 'month_7',\n",
       " 'month_8',\n",
       " 'month_9',\n",
       " 'res']"
      ]
     },
     "execution_count": 6,
     "metadata": {},
     "output_type": "execute_result"
    }
   ],
   "source": [
    "new_cols = ['month_{}'.format(x) for x in [10,11,12,1,2,3,4,5,6,7,8,9]]\n",
    "new_cols = ['year_summer'] + new_cols + ['res']\n",
    "new_cols"
   ]
  },
  {
   "cell_type": "code",
   "execution_count": 7,
   "metadata": {
    "collapsed": true
   },
   "outputs": [],
   "source": [
    "def build_res_df(raw_df):\n",
    "    frames = []\n",
    "    for reservoir in raw_df[1:]:\n",
    "        tmp_df = pd.DataFrame({'date': raw_df['DATE'], 'res': raw_df[reservoir]})\n",
    "        tmp_df['tmp_col'] = tmp_df['res'].shift(6)\n",
    "        # year_summer is the year that the target variable occurs in\n",
    "        tmp_df['year_summer'] = tmp_df['date'].apply(lambda x: datetime.strftime(x,'%Y'))\n",
    "        tmp_df['month'] = tmp_df['date'].apply(lambda x: datetime.strftime(x,'%m'))\n",
    "        new = tmp_df.pivot(index='year_summer', columns='month', values = 'tmp_col')\n",
    "        new['res'] = reservoir\n",
    "        # print(new.head(20))\n",
    "        frames.append(new)\n",
    "    frames.pop(0)\n",
    "    df = pd.concat(frames).reset_index()\n",
    "    df.columns = new_cols\n",
    "    return df\n",
    "\n",
    "def str_to_float(value):\n",
    "    try:\n",
    "        return float(value)\n",
    "    except:   \n",
    "        return np.NaN\n",
    "\n",
    "def str_to_int(value):\n",
    "    try:\n",
    "        return int(value)\n",
    "    except:   \n",
    "        return np.NaN"
   ]
  },
  {
   "cell_type": "code",
   "execution_count": 8,
   "metadata": {
    "collapsed": true
   },
   "outputs": [],
   "source": [
    "df = build_res_df(raw_df)"
   ]
  },
  {
   "cell_type": "code",
   "execution_count": 9,
   "metadata": {},
   "outputs": [
    {
     "data": {
      "text/html": [
       "<div>\n",
       "<table border=\"1\" class=\"dataframe\">\n",
       "  <thead>\n",
       "    <tr style=\"text-align: right;\">\n",
       "      <th></th>\n",
       "      <th>year_summer</th>\n",
       "      <th>month_10</th>\n",
       "      <th>month_11</th>\n",
       "      <th>month_12</th>\n",
       "      <th>month_1</th>\n",
       "      <th>month_2</th>\n",
       "      <th>month_3</th>\n",
       "      <th>month_4</th>\n",
       "      <th>month_5</th>\n",
       "      <th>month_6</th>\n",
       "      <th>month_7</th>\n",
       "      <th>month_8</th>\n",
       "      <th>month_9</th>\n",
       "      <th>res</th>\n",
       "    </tr>\n",
       "  </thead>\n",
       "  <tbody>\n",
       "    <tr>\n",
       "      <th>0</th>\n",
       "      <td>2000</td>\n",
       "      <td>NaN</td>\n",
       "      <td>NaN</td>\n",
       "      <td>NaN</td>\n",
       "      <td>NaN</td>\n",
       "      <td>NaN</td>\n",
       "      <td>NaN</td>\n",
       "      <td>NaN</td>\n",
       "      <td>NaN</td>\n",
       "      <td>NaN</td>\n",
       "      <td>NaN</td>\n",
       "      <td>NaN</td>\n",
       "      <td>0.80419</td>\n",
       "      <td>BRV</td>\n",
       "    </tr>\n",
       "    <tr>\n",
       "      <th>1</th>\n",
       "      <td>2001</td>\n",
       "      <td>0.77514</td>\n",
       "      <td>0.75507</td>\n",
       "      <td>1.00000</td>\n",
       "      <td>1.00000</td>\n",
       "      <td>1.00000</td>\n",
       "      <td>1.00000</td>\n",
       "      <td>0.71378</td>\n",
       "      <td>1.00000</td>\n",
       "      <td>0.74514</td>\n",
       "      <td>1.00000</td>\n",
       "      <td>1.00000</td>\n",
       "      <td>1.00000</td>\n",
       "      <td>BRV</td>\n",
       "    </tr>\n",
       "    <tr>\n",
       "      <th>2</th>\n",
       "      <td>2002</td>\n",
       "      <td>1.00000</td>\n",
       "      <td>0.67608</td>\n",
       "      <td>0.65905</td>\n",
       "      <td>0.64243</td>\n",
       "      <td>0.63919</td>\n",
       "      <td>0.63270</td>\n",
       "      <td>0.62770</td>\n",
       "      <td>0.62365</td>\n",
       "      <td>0.61942</td>\n",
       "      <td>0.60919</td>\n",
       "      <td>0.59324</td>\n",
       "      <td>0.57311</td>\n",
       "      <td>BRV</td>\n",
       "    </tr>\n",
       "    <tr>\n",
       "      <th>3</th>\n",
       "      <td>2003</td>\n",
       "      <td>0.55162</td>\n",
       "      <td>0.52878</td>\n",
       "      <td>0.51335</td>\n",
       "      <td>0.50176</td>\n",
       "      <td>0.50230</td>\n",
       "      <td>0.50147</td>\n",
       "      <td>0.50068</td>\n",
       "      <td>0.51595</td>\n",
       "      <td>0.54405</td>\n",
       "      <td>0.55108</td>\n",
       "      <td>0.54662</td>\n",
       "      <td>0.52862</td>\n",
       "      <td>BRV</td>\n",
       "    </tr>\n",
       "    <tr>\n",
       "      <th>4</th>\n",
       "      <td>2004</td>\n",
       "      <td>0.51054</td>\n",
       "      <td>0.49701</td>\n",
       "      <td>0.48189</td>\n",
       "      <td>0.46919</td>\n",
       "      <td>0.46796</td>\n",
       "      <td>0.47081</td>\n",
       "      <td>0.46676</td>\n",
       "      <td>0.47554</td>\n",
       "      <td>0.49149</td>\n",
       "      <td>0.48649</td>\n",
       "      <td>0.47135</td>\n",
       "      <td>0.45635</td>\n",
       "      <td>BRV</td>\n",
       "    </tr>\n",
       "  </tbody>\n",
       "</table>\n",
       "</div>"
      ],
      "text/plain": [
       "  year_summer  month_10  month_11  month_12  month_1  month_2  month_3  \\\n",
       "0        2000       NaN       NaN       NaN      NaN      NaN      NaN   \n",
       "1        2001   0.77514   0.75507   1.00000  1.00000  1.00000  1.00000   \n",
       "2        2002   1.00000   0.67608   0.65905  0.64243  0.63919  0.63270   \n",
       "3        2003   0.55162   0.52878   0.51335  0.50176  0.50230  0.50147   \n",
       "4        2004   0.51054   0.49701   0.48189  0.46919  0.46796  0.47081   \n",
       "\n",
       "   month_4  month_5  month_6  month_7  month_8  month_9  res  \n",
       "0      NaN      NaN      NaN      NaN      NaN  0.80419  BRV  \n",
       "1  0.71378  1.00000  0.74514  1.00000  1.00000  1.00000  BRV  \n",
       "2  0.62770  0.62365  0.61942  0.60919  0.59324  0.57311  BRV  \n",
       "3  0.50068  0.51595  0.54405  0.55108  0.54662  0.52862  BRV  \n",
       "4  0.46676  0.47554  0.49149  0.48649  0.47135  0.45635  BRV  "
      ]
     },
     "execution_count": 9,
     "metadata": {},
     "output_type": "execute_result"
    }
   ],
   "source": [
    "df.head()"
   ]
  },
  {
   "cell_type": "code",
   "execution_count": 10,
   "metadata": {
    "collapsed": true
   },
   "outputs": [],
   "source": [
    "df = df[df['year_summer'] != '2000']\n",
    "df = df[df['year_summer'] != '2015']\n",
    "df = df[df['year_summer'] != '2016']\n",
    "df = df[df['year_summer'] != '2017']"
   ]
  },
  {
   "cell_type": "code",
   "execution_count": 11,
   "metadata": {
    "collapsed": true
   },
   "outputs": [],
   "source": [
    "for column in df.columns[1:]:\n",
    "    df[str(column)].apply(str_to_float)"
   ]
  },
  {
   "cell_type": "code",
   "execution_count": 12,
   "metadata": {},
   "outputs": [
    {
     "data": {
      "text/plain": [
       "year_summer     object\n",
       "month_10       float64\n",
       "month_11       float64\n",
       "month_12       float64\n",
       "month_1        float64\n",
       "month_2        float64\n",
       "month_3        float64\n",
       "month_4        float64\n",
       "month_5        float64\n",
       "month_6        float64\n",
       "month_7        float64\n",
       "month_8        float64\n",
       "month_9        float64\n",
       "res             object\n",
       "dtype: object"
      ]
     },
     "execution_count": 12,
     "metadata": {},
     "output_type": "execute_result"
    }
   ],
   "source": [
    "df.dtypes"
   ]
  },
  {
   "cell_type": "code",
   "execution_count": 13,
   "metadata": {},
   "outputs": [
    {
     "data": {
      "text/plain": [
       "(182, 14)"
      ]
     },
     "execution_count": 13,
     "metadata": {},
     "output_type": "execute_result"
    }
   ],
   "source": [
    "df.shape\n",
    "# df.head()"
   ]
  },
  {
   "cell_type": "markdown",
   "metadata": {},
   "source": [
    "## Build dataframe for climate data\n",
    "\n",
    "This file contains an extracted local summary of land-surface \n",
    "temperature results produced by the Berkeley Earth averaging \n",
    "method for the location: \n",
    "\n",
    "   34.56 N, 118.70 W\n",
    "\n",
    "The Berkeley Earth method takes temperature observations from a large \n",
    "collection of weather monitoring stations and produces an estimate of \n",
    "the underlying global temperature field across all of the Earth's \n",
    "land areas.  Once this temperature field has been generated, it is \n",
    "possible to estimate the temperature evolution of individual locations \n",
    "simply by sampling the field at the locaiton in question.  This \n",
    "file contains such a local estimate.\n",
    "\n",
    "Temperatures are in Celsius and reported as anomalies relative to the \n",
    "Jan 1951-Dec 1980 average.  Uncertainties represent the 95% confidence \n",
    "interval for statistical noise and spatial undersampling effects.  Such \n",
    "uncertainties are expected to account for the effects of random \n",
    "noise as well as random biases affecting station trends and random \n",
    "shifts in station baselines.  The analysis framework is expected to be \n",
    "robust against most forms of bias; however, the impact of some forms of \n",
    "possible systematic bias is still being studied.\n",
    "\n",
    "The current dataset presented here is described as: \n",
    "\n",
    "  Berkeley Earth analysis for mean temperature on complete dataset\n",
    "\n",
    "\n",
    "This analysis was run on 12-Oct-2013 00:45:15\n",
    "\n",
    "Global results are based on 39348 time series \n",
    "  with 15244148 data points\n",
    "\n",
    "The current location is characterized by: \n",
    "  Country: United States\n",
    "  Nearby Cities: Los Angeles, Bakersfield, Glendale, Oxnard, Santa Clarita\n",
    "  Percent water in local neighborhood: 19.1\n",
    "  Temperature stations within 200 km: 333\n",
    "  Temperature obeservations within 200 km: 128169\n",
    "\n",
    "Note that all results reported here are derived from the full field \n",
    "analysis and may use information from stations a great distance from the \n",
    "target location when more local sources are not available.  In general, \n",
    "the temperature anomaly field has significant correlation extending over \n",
    "greater than 1000 km, which allows even distant stations to provide some \n",
    "insight at times when local coverage may be lacking. \n",
    "\n",
    "Estimated Jan 1951-Dec 1980 absolute temperature (C): 15.86 +/- 0.46\n",
    "\n",
    "Estimated Jan 1951-Dec 1980 monthly absolute temperature (C):\n",
    "     Jan    Feb    Mar    Apr    May    Jun    Jul    Aug    Sep    Oct    Nov    Dec\n",
    "      8.99  10.43  11.45  13.52  16.63  20.25  23.95  23.76  21.68  17.37  12.74   9.53\n",
    "+/-   1.19   0.98   0.85   0.69   0.69   1.09   1.41   1.39   0.99   0.54   0.90   1.26\n",
    "\n",
    "For each month, we report the estimated land-surface anomaly for that \n",
    "month and its uncertainty.  We also report the corresponding values for \n",
    "year, five-year, ten-year, and twenty-year moving averages CENTERED about \n",
    "that month (rounding down if the center is in between months).  For example, \n",
    "the annual average from January to December 1950 is reported at June 1950. \n",
    "\n",
    "Values are reported as missing (i.e. NaN) when station coverage near \n",
    "this location becomes too low.  Time averages over intervals with some \n",
    "missing data will be reported as long as at least 75% of the necessary \n",
    "values are available."
   ]
  },
  {
   "cell_type": "code",
   "execution_count": 14,
   "metadata": {},
   "outputs": [
    {
     "data": {
      "text/html": [
       "<div>\n",
       "<table border=\"1\" class=\"dataframe\">\n",
       "  <thead>\n",
       "    <tr style=\"text-align: right;\">\n",
       "      <th></th>\n",
       "      <th>DATE</th>\n",
       "      <th>avg_t</th>\n",
       "      <th>avg_t_err</th>\n",
       "    </tr>\n",
       "  </thead>\n",
       "  <tbody>\n",
       "    <tr>\n",
       "      <th>155</th>\n",
       "      <td>5/1/13</td>\n",
       "      <td>19.028</td>\n",
       "      <td>0.531</td>\n",
       "    </tr>\n",
       "    <tr>\n",
       "      <th>156</th>\n",
       "      <td>6/1/13</td>\n",
       "      <td>22.434</td>\n",
       "      <td>0.416</td>\n",
       "    </tr>\n",
       "    <tr>\n",
       "      <th>157</th>\n",
       "      <td>7/1/13</td>\n",
       "      <td>25.090</td>\n",
       "      <td>0.334</td>\n",
       "    </tr>\n",
       "    <tr>\n",
       "      <th>158</th>\n",
       "      <td>8/1/13</td>\n",
       "      <td>24.232</td>\n",
       "      <td>0.384</td>\n",
       "    </tr>\n",
       "    <tr>\n",
       "      <th>159</th>\n",
       "      <td>9/1/13</td>\n",
       "      <td>23.301</td>\n",
       "      <td>0.984</td>\n",
       "    </tr>\n",
       "  </tbody>\n",
       "</table>\n",
       "</div>"
      ],
      "text/plain": [
       "       DATE   avg_t  avg_t_err\n",
       "155  5/1/13  19.028      0.531\n",
       "156  6/1/13  22.434      0.416\n",
       "157  7/1/13  25.090      0.334\n",
       "158  8/1/13  24.232      0.384\n",
       "159  9/1/13  23.301      0.984"
      ]
     },
     "execution_count": 14,
     "metadata": {},
     "output_type": "execute_result"
    }
   ],
   "source": [
    "file_path = 'climate_temps.csv'\n",
    "raw_temps_df = pd.read_csv(file_path)\n",
    "raw_temps_df.tail()"
   ]
  },
  {
   "cell_type": "code",
   "execution_count": 15,
   "metadata": {
    "collapsed": true
   },
   "outputs": [],
   "source": [
    "raw_temps_df['DATE'] = pd.to_datetime(raw_temps_df.DATE, format = '%m/%d/%y')"
   ]
  },
  {
   "cell_type": "code",
   "execution_count": 16,
   "metadata": {
    "collapsed": true
   },
   "outputs": [],
   "source": [
    "def build_temps_df(raw_df):\n",
    "    frames = []\n",
    "    new_cols = ['year_summer'] + ['month_{}'.format(x) for x in [10,11,12,1,2,3,4,5,6,7,8,9]]\n",
    "    for column in raw_df[1:]:\n",
    "        tmp_df = pd.DataFrame({'date': raw_df['DATE'], 'value': raw_df[column]})\n",
    "        tmp_df['tmp_col'] = tmp_df['value'].shift(6)\n",
    "        # year_summer is the year that the target variable occurs in\n",
    "        tmp_df['year_summer'] = tmp_df['date'].apply(lambda x: datetime.strftime(x,'%Y'))\n",
    "        tmp_df['month'] = tmp_df['date'].apply(lambda x: datetime.strftime(x,'%m'))\n",
    "        new = tmp_df.pivot(index='year_summer', columns='month', values = 'tmp_col')\n",
    "        # print(new.head(20))\n",
    "        frames.append(new)\n",
    "    frames.pop(0)\n",
    "    df = pd.concat(frames).reset_index()\n",
    "    df.columns = new_cols\n",
    "    return df"
   ]
  },
  {
   "cell_type": "code",
   "execution_count": 17,
   "metadata": {
    "collapsed": true
   },
   "outputs": [],
   "source": [
    "temps_df = build_temps_df(raw_temps_df)"
   ]
  },
  {
   "cell_type": "code",
   "execution_count": 18,
   "metadata": {
    "collapsed": true
   },
   "outputs": [],
   "source": [
    "temps_df = temps_df[temps_df['year_summer'] != '2000']"
   ]
  },
  {
   "cell_type": "code",
   "execution_count": 19,
   "metadata": {
    "collapsed": true
   },
   "outputs": [],
   "source": [
    "for column in temps_df.columns[1:]:\n",
    "    temps_df[str(column)].apply(str_to_float)"
   ]
  },
  {
   "cell_type": "code",
   "execution_count": 20,
   "metadata": {},
   "outputs": [
    {
     "data": {
      "text/plain": [
       "year_summer     object\n",
       "month_10       float64\n",
       "month_11       float64\n",
       "month_12       float64\n",
       "month_1        float64\n",
       "month_2        float64\n",
       "month_3        float64\n",
       "month_4        float64\n",
       "month_5        float64\n",
       "month_6        float64\n",
       "month_7        float64\n",
       "month_8        float64\n",
       "month_9        float64\n",
       "dtype: object"
      ]
     },
     "execution_count": 20,
     "metadata": {},
     "output_type": "execute_result"
    }
   ],
   "source": [
    "temps_df.dtypes"
   ]
  },
  {
   "cell_type": "markdown",
   "metadata": {},
   "source": [
    "# MERGE DATA: Join Dataframes"
   ]
  },
  {
   "cell_type": "code",
   "execution_count": 21,
   "metadata": {},
   "outputs": [
    {
     "data": {
      "text/html": [
       "<div>\n",
       "<table border=\"1\" class=\"dataframe\">\n",
       "  <thead>\n",
       "    <tr style=\"text-align: right;\">\n",
       "      <th></th>\n",
       "      <th>res</th>\n",
       "      <th>name</th>\n",
       "      <th>dam</th>\n",
       "      <th>river</th>\n",
       "      <th>nearby_city</th>\n",
       "      <th>county</th>\n",
       "      <th>basin</th>\n",
       "      <th>agency</th>\n",
       "      <th>elevation</th>\n",
       "      <th>lat</th>\n",
       "      <th>long</th>\n",
       "      <th>yr_complete</th>\n",
       "      <th>type</th>\n",
       "      <th>height_ft</th>\n",
       "      <th>height_m</th>\n",
       "      <th>capacity_af</th>\n",
       "      <th>capacity_1000m3</th>\n",
       "    </tr>\n",
       "  </thead>\n",
       "  <tbody>\n",
       "    <tr>\n",
       "      <th>0</th>\n",
       "      <td>BRV</td>\n",
       "      <td>Big Bear Lake</td>\n",
       "      <td>Bear Valley Dam</td>\n",
       "      <td>Bear Creek</td>\n",
       "      <td>SAN BERNARDINO</td>\n",
       "      <td>SAN BERNARDINO</td>\n",
       "      <td>SANTA ANA R</td>\n",
       "      <td>Big Bear Municipal Water District</td>\n",
       "      <td>6743</td>\n",
       "      <td>34.2420</td>\n",
       "      <td>-116.9780</td>\n",
       "      <td>1911</td>\n",
       "      <td>Multiple-Arch</td>\n",
       "      <td>80</td>\n",
       "      <td>24</td>\n",
       "      <td>74000</td>\n",
       "      <td>91000</td>\n",
       "    </tr>\n",
       "    <tr>\n",
       "      <th>1</th>\n",
       "      <td>CAS</td>\n",
       "      <td>Castaic Lake</td>\n",
       "      <td>Castaic Dam</td>\n",
       "      <td>Castaic Creek</td>\n",
       "      <td>MONROVIA</td>\n",
       "      <td>LOS ANGELES</td>\n",
       "      <td>SAN GABRIEL R</td>\n",
       "      <td>Los Angeles County</td>\n",
       "      <td>2405</td>\n",
       "      <td>34.2450</td>\n",
       "      <td>-117.9650</td>\n",
       "      <td>1973</td>\n",
       "      <td>Earth</td>\n",
       "      <td>340</td>\n",
       "      <td>100</td>\n",
       "      <td>323700</td>\n",
       "      <td>399300</td>\n",
       "    </tr>\n",
       "    <tr>\n",
       "      <th>2</th>\n",
       "      <td>CGS</td>\n",
       "      <td>Cogswell Reservoir</td>\n",
       "      <td>Cogswell Dam</td>\n",
       "      <td>San Gabriel River, West Fork</td>\n",
       "      <td>CASTAIC</td>\n",
       "      <td>LOS ANGELES</td>\n",
       "      <td>SANTA CLARA R</td>\n",
       "      <td>CA Dept of Water Resources,  Southern Field Div</td>\n",
       "      <td>1535</td>\n",
       "      <td>34.5152</td>\n",
       "      <td>-118.6101</td>\n",
       "      <td>1935</td>\n",
       "      <td>Rock-fill</td>\n",
       "      <td>266</td>\n",
       "      <td>81</td>\n",
       "      <td>8969</td>\n",
       "      <td>11063</td>\n",
       "    </tr>\n",
       "    <tr>\n",
       "      <th>3</th>\n",
       "      <td>DMV</td>\n",
       "      <td>Diamond Valley Lake</td>\n",
       "      <td>Diamond Valley Dam</td>\n",
       "      <td>Domenigoni Valley Creek</td>\n",
       "      <td>WINCHESTER</td>\n",
       "      <td>RIVERSIDE</td>\n",
       "      <td>SANTA MARGARITA R</td>\n",
       "      <td>Metropolitan Water District</td>\n",
       "      <td>1756</td>\n",
       "      <td>33.6700</td>\n",
       "      <td>-117.0660</td>\n",
       "      <td>1999</td>\n",
       "      <td>Earth, Rock</td>\n",
       "      <td>284</td>\n",
       "      <td>87</td>\n",
       "      <td>800000</td>\n",
       "      <td>987000</td>\n",
       "    </tr>\n",
       "    <tr>\n",
       "      <th>4</th>\n",
       "      <td>MHW</td>\n",
       "      <td>Lake Mathews</td>\n",
       "      <td>Mathews Dam</td>\n",
       "      <td>Cajalco Creek tributary</td>\n",
       "      <td>CORONA</td>\n",
       "      <td>RIVERSIDE</td>\n",
       "      <td>SANTA ANA AB NARROWS</td>\n",
       "      <td>Metropolitan Water District</td>\n",
       "      <td>1404</td>\n",
       "      <td>33.8330</td>\n",
       "      <td>-117.4600</td>\n",
       "      <td>1938</td>\n",
       "      <td>Earth</td>\n",
       "      <td>264</td>\n",
       "      <td>80</td>\n",
       "      <td>182000</td>\n",
       "      <td>224000</td>\n",
       "    </tr>\n",
       "  </tbody>\n",
       "</table>\n",
       "</div>"
      ],
      "text/plain": [
       "   res                 name                 dam                         river  \\\n",
       "0  BRV        Big Bear Lake     Bear Valley Dam                    Bear Creek   \n",
       "1  CAS         Castaic Lake         Castaic Dam                 Castaic Creek   \n",
       "2  CGS   Cogswell Reservoir        Cogswell Dam  San Gabriel River, West Fork   \n",
       "3  DMV  Diamond Valley Lake  Diamond Valley Dam       Domenigoni Valley Creek   \n",
       "4  MHW         Lake Mathews         Mathews Dam       Cajalco Creek tributary   \n",
       "\n",
       "      nearby_city          county                 basin  \\\n",
       "0  SAN BERNARDINO  SAN BERNARDINO           SANTA ANA R   \n",
       "1        MONROVIA     LOS ANGELES         SAN GABRIEL R   \n",
       "2         CASTAIC     LOS ANGELES         SANTA CLARA R   \n",
       "3      WINCHESTER       RIVERSIDE     SANTA MARGARITA R   \n",
       "4          CORONA       RIVERSIDE  SANTA ANA AB NARROWS   \n",
       "\n",
       "                                            agency  elevation      lat  \\\n",
       "0                Big Bear Municipal Water District       6743  34.2420   \n",
       "1                               Los Angeles County       2405  34.2450   \n",
       "2  CA Dept of Water Resources,  Southern Field Div       1535  34.5152   \n",
       "3                      Metropolitan Water District       1756  33.6700   \n",
       "4                      Metropolitan Water District       1404  33.8330   \n",
       "\n",
       "       long  yr_complete           type  height_ft  height_m  capacity_af  \\\n",
       "0 -116.9780         1911  Multiple-Arch         80        24        74000   \n",
       "1 -117.9650         1973          Earth        340       100       323700   \n",
       "2 -118.6101         1935      Rock-fill        266        81         8969   \n",
       "3 -117.0660         1999    Earth, Rock        284        87       800000   \n",
       "4 -117.4600         1938          Earth        264        80       182000   \n",
       "\n",
       "   capacity_1000m3  \n",
       "0            91000  \n",
       "1           399300  \n",
       "2            11063  \n",
       "3           987000  \n",
       "4           224000  "
      ]
     },
     "execution_count": 21,
     "metadata": {},
     "output_type": "execute_result"
    }
   ],
   "source": [
    "file_path = 'Capacitys_final.csv'\n",
    "cap_df = pd.read_csv(file_path)\n",
    "cap_df.head()"
   ]
  },
  {
   "cell_type": "code",
   "execution_count": 22,
   "metadata": {
    "collapsed": true
   },
   "outputs": [],
   "source": [
    "df1 = pd.merge(cap_df, \\\n",
    "                 df, \\\n",
    "                 left_on= 'res',  \\\n",
    "                 right_on= 'res',  \\\n",
    "                 sort=True,  \\\n",
    "                 suffixes=('_origin', '_temps'), how = 'outer')"
   ]
  },
  {
   "cell_type": "code",
   "execution_count": 23,
   "metadata": {
    "collapsed": true
   },
   "outputs": [],
   "source": [
    "df2 = pd.merge(df1, \\\n",
    "                 temps_df, \\\n",
    "                 left_on= 'year_summer',  \\\n",
    "                 right_on= 'year_summer',  \\\n",
    "                 sort=True,  \\\n",
    "                 suffixes=('_storage', '_temps'), how = 'outer')"
   ]
  },
  {
   "cell_type": "code",
   "execution_count": 24,
   "metadata": {},
   "outputs": [
    {
     "data": {
      "text/plain": [
       "Index(['res', 'name', 'dam', 'river', 'nearby_city', 'county', 'basin',\n",
       "       'agency', 'elevation', 'lat', 'long', 'yr_complete', 'type',\n",
       "       'height_ft', 'height_m', 'capacity_af', 'capacity_1000m3',\n",
       "       'year_summer', 'month_10_storage', 'month_11_storage',\n",
       "       'month_12_storage', 'month_1_storage', 'month_2_storage',\n",
       "       'month_3_storage', 'month_4_storage', 'month_5_storage',\n",
       "       'month_6_storage', 'month_7_storage', 'month_8_storage',\n",
       "       'month_9_storage', 'month_10_temps', 'month_11_temps', 'month_12_temps',\n",
       "       'month_1_temps', 'month_2_temps', 'month_3_temps', 'month_4_temps',\n",
       "       'month_5_temps', 'month_6_temps', 'month_7_temps', 'month_8_temps',\n",
       "       'month_9_temps'],\n",
       "      dtype='object')"
      ]
     },
     "execution_count": 24,
     "metadata": {},
     "output_type": "execute_result"
    }
   ],
   "source": [
    "df2.columns"
   ]
  },
  {
   "cell_type": "markdown",
   "metadata": {},
   "source": [
    "# CLEAN MERGED DF:\n",
    "## Add classes to predict"
   ]
  },
  {
   "cell_type": "code",
   "execution_count": 77,
   "metadata": {
    "collapsed": true
   },
   "outputs": [],
   "source": [
    "# For binary classification (empty vs not empty)\n",
    "# def classify_storage(df):\n",
    "#     df['status'] = 0 #df.assign(status=0)?  All reservoirs are empty\n",
    "#     df['status'][df['month_9_storage'] > 0.5] = 1\n",
    "#     df['status'][df['month_9_storage'] <= 0.5] = 0\n",
    "#     return df\n",
    "# df = classify_storage(df)\n",
    "\n",
    "# VERSION 1:\n",
    "# def classify_storage(df):\n",
    "#     df['status'] = 0\n",
    "#     df['status'][df['month_9_storage'] > 0.75] = '> 75% Cap'\n",
    "#     df['status'][(df['month_9_storage'] < 0.75) & (df['month_9_storage'] > 0.5)] = '> 50% Cap'\n",
    "#     df['status'][(df['month_9_storage'] < 0.5) & (df['month_9_storage'] > 0.25)] = '> 25% Cap'\n",
    "#     df['status'][df['month_9_storage'] <= 0.25] = '< 25% Cap'\n",
    "#     return df\n",
    "\n",
    "# VERSION 2:\n",
    "def classify_storage(df):\n",
    "    df['status_labels'] = 0\n",
    "    df['status_labels'][df['month_9_storage'] > 0.85] = '> 85% Cap'\n",
    "    df['status_labels'][(df['month_9_storage'] < 0.85) & (df['month_9_storage'] > 0.7)] = '> 70% Cap'\n",
    "    df['status_labels'][(df['month_9_storage'] < 0.7) & (df['month_9_storage'] > 0.55)] = '> 55% Cap'\n",
    "    df['status_labels'][df['month_9_storage'] <= 0.55] = '< 55% Cap'\n",
    "    \n",
    "    df['status'] = 0\n",
    "    df['status'][df['month_9_storage'] > 0.85] = 3\n",
    "    df['status'][(df['month_9_storage'] < 0.85) & (df['month_9_storage'] > 0.7)] = 2\n",
    "    df['status'][(df['month_9_storage'] < 0.7) & (df['month_9_storage'] > 0.55)] = 1\n",
    "    return df\n",
    "\n",
    "df2 = classify_storage(df2)"
   ]
  },
  {
   "cell_type": "code",
   "execution_count": 26,
   "metadata": {
    "collapsed": true
   },
   "outputs": [],
   "source": [
    "# df2.head(30)"
   ]
  },
  {
   "cell_type": "markdown",
   "metadata": {},
   "source": [
    "## Make 'year_summer' an integer"
   ]
  },
  {
   "cell_type": "code",
   "execution_count": 27,
   "metadata": {
    "collapsed": true
   },
   "outputs": [],
   "source": [
    "df2['year_summer'] = df2['year_summer'].apply(str_to_int)"
   ]
  },
  {
   "cell_type": "code",
   "execution_count": 28,
   "metadata": {
    "collapsed": true
   },
   "outputs": [],
   "source": [
    "# df2.dtypes"
   ]
  },
  {
   "cell_type": "markdown",
   "metadata": {},
   "source": [
    "## Make 'type' integer labels"
   ]
  },
  {
   "cell_type": "code",
   "execution_count": 29,
   "metadata": {},
   "outputs": [
    {
     "data": {
      "text/plain": [
       "array(['Multiple-Arch', 'Earth', 'Rock-fill', 'Earth, Rock',\n",
       "       'Variable-Radius-Arch'], dtype=object)"
      ]
     },
     "execution_count": 29,
     "metadata": {},
     "output_type": "execute_result"
    }
   ],
   "source": [
    "df2['type'].unique()"
   ]
  },
  {
   "cell_type": "code",
   "execution_count": 30,
   "metadata": {
    "collapsed": true
   },
   "outputs": [],
   "source": [
    "def label_type(df):\n",
    "    df['tmp_col'] = 0\n",
    "    df['tmp_col'][df['type'] == 'Multiple-Arch'] = 1\n",
    "    df['tmp_col'][df['type'] == 'Earth'] = 2\n",
    "    df['tmp_col'][df['type'] == 'Rock-fill'] = 3\n",
    "    df['tmp_col'][df['type'] == 'Earth, Rock'] = 4\n",
    "    df['tmp_col'][df['type'] == 'Variable-Radius-Arch'] = 5    \n",
    "    df['type'] = df['tmp_col']\n",
    "    df = df.drop('tmp_col', axis = 1)\n",
    "    return df"
   ]
  },
  {
   "cell_type": "code",
   "execution_count": 31,
   "metadata": {
    "collapsed": true
   },
   "outputs": [],
   "source": [
    "df2 = label_type(df2)"
   ]
  },
  {
   "cell_type": "code",
   "execution_count": null,
   "metadata": {
    "collapsed": true
   },
   "outputs": [],
   "source": []
  },
  {
   "cell_type": "code",
   "execution_count": 32,
   "metadata": {
    "collapsed": true
   },
   "outputs": [],
   "source": [
    "# df2.dtypes"
   ]
  },
  {
   "cell_type": "code",
   "execution_count": 33,
   "metadata": {
    "collapsed": true
   },
   "outputs": [],
   "source": [
    "# DO I NEED THIS?\n",
    "# raw_df = raw_df.set_index(['DATE_TIME'])"
   ]
  },
  {
   "cell_type": "markdown",
   "metadata": {},
   "source": [
    "# HOLDOUT SET"
   ]
  },
  {
   "cell_type": "code",
   "execution_count": 34,
   "metadata": {
    "collapsed": true
   },
   "outputs": [],
   "source": [
    "holdout_df = df2[df2['year_summer'] == 2013]\n",
    "\n",
    "# df_test1 = df[df['year_summer'] == 2012]\n",
    "# df_test2 = df[df['year_summer'] == 2011]\n",
    "# frames = [df_test1, df_test2]\n",
    "# test_df = pd.concat(frames)\n",
    "\n",
    "train_df = df2[(df2['year_summer'] != 2013)]\n",
    "# train_df = train_df[train_df['year_summer'] != 2012]\n",
    "# train_df = train_df[train_df['year_summer'] != 2011]"
   ]
  },
  {
   "cell_type": "code",
   "execution_count": 35,
   "metadata": {},
   "outputs": [
    {
     "name": "stdout",
     "output_type": "stream",
     "text": [
      "My holdout set represented 7.69 percent of my data\n"
     ]
    }
   ],
   "source": [
    "percent_held_out = float((len(holdout_df) / len(df2)) * 100, )\n",
    "print('My holdout set represented %.2f percent of my data'% percent_held_out)"
   ]
  },
  {
   "cell_type": "code",
   "execution_count": 36,
   "metadata": {},
   "outputs": [
    {
     "data": {
      "text/plain": [
       "(336, 44)"
      ]
     },
     "execution_count": 36,
     "metadata": {},
     "output_type": "execute_result"
    }
   ],
   "source": [
    "train_df.shape"
   ]
  },
  {
   "cell_type": "code",
   "execution_count": 37,
   "metadata": {},
   "outputs": [
    {
     "data": {
      "text/plain": [
       "array([2001, 2002, 2003, 2004, 2005, 2006, 2007, 2008, 2009, 2010, 2011,\n",
       "       2012])"
      ]
     },
     "execution_count": 37,
     "metadata": {},
     "output_type": "execute_result"
    }
   ],
   "source": [
    "train_df['year_summer'].unique()"
   ]
  },
  {
   "cell_type": "markdown",
   "metadata": {},
   "source": [
    "\n",
    "---------------\n",
    "## Aside:  Debug ValueError for X_train\n",
    "\n",
    "**ValueError: Input contains NaN, infinity or a value too large for dtype('float64').**\n",
    "- relevant the first time I did train test-split (run below)"
   ]
  },
  {
   "cell_type": "code",
   "execution_count": 38,
   "metadata": {
    "collapsed": true
   },
   "outputs": [],
   "source": [
    "# X_train.describe()"
   ]
  },
  {
   "cell_type": "code",
   "execution_count": 39,
   "metadata": {
    "collapsed": true
   },
   "outputs": [],
   "source": [
    "#print(np.asanyarray(X_train).dtype.char in np.typecodes['AllFloat'])\n",
    "#print(not np.isfinite(np.asanyarray(X_train).sum()))\n",
    "#print(np.isfinite(np.asanyarray(X_train))"
   ]
  },
  {
   "cell_type": "code",
   "execution_count": 40,
   "metadata": {
    "collapsed": true
   },
   "outputs": [],
   "source": [
    "# X_train.replace([np.inf, -np.inf], np.nan)\n",
    "# X_train = X_train.replace([np.inf, -np.inf], np.nan).dropna(how=\"all\")"
   ]
  },
  {
   "cell_type": "markdown",
   "metadata": {},
   "source": [
    "--------------"
   ]
  },
  {
   "cell_type": "markdown",
   "metadata": {},
   "source": [
    "# MODEL ITERATION"
   ]
  },
  {
   "cell_type": "markdown",
   "metadata": {},
   "source": [
    "## Shotgun: All Features in All classification models\n",
    "- Goal: Choose the best modeling approach\n",
    "- Classification Comparison Example http://scikit-learn.org/stable/auto_examples/classification/plot_classifier_comparison.html"
   ]
  },
  {
   "cell_type": "code",
   "execution_count": 41,
   "metadata": {
    "scrolled": true
   },
   "outputs": [
    {
     "name": "stdout",
     "output_type": "stream",
     "text": [
      "training column 0: res, object\n",
      "training column 1: name, object\n",
      "training column 2: dam, object\n",
      "training column 3: river, object\n",
      "training column 4: nearby_city, object\n",
      "training column 5: county, object\n",
      "training column 6: basin, object\n",
      "training column 7: agency, object\n",
      "training column 8: elevation, int64\n",
      "training column 9: lat, float64\n",
      "training column 10: long, float64\n",
      "training column 11: yr_complete, int64\n",
      "training column 12: type, int64\n",
      "training column 13: height_ft, int64\n",
      "training column 14: height_m, int64\n",
      "training column 15: capacity_af, int64\n",
      "training column 16: capacity_1000m3, int64\n",
      "training column 17: year_summer, int64\n",
      "training column 18: month_10_storage, float64\n",
      "training column 19: month_11_storage, float64\n",
      "training column 20: month_12_storage, float64\n",
      "training column 21: month_1_storage, float64\n",
      "training column 22: month_2_storage, float64\n",
      "training column 23: month_3_storage, float64\n",
      "training column 24: month_4_storage, float64\n",
      "training column 25: month_5_storage, float64\n",
      "training column 26: month_6_storage, float64\n",
      "training column 27: month_7_storage, float64\n",
      "training column 28: month_8_storage, float64\n",
      "training column 29: month_9_storage, float64\n",
      "training column 30: month_10_temps, float64\n",
      "training column 31: month_11_temps, float64\n",
      "training column 32: month_12_temps, float64\n",
      "training column 33: month_1_temps, float64\n",
      "training column 34: month_2_temps, float64\n",
      "training column 35: month_3_temps, float64\n",
      "training column 36: month_4_temps, float64\n",
      "training column 37: month_5_temps, float64\n",
      "training column 38: month_6_temps, float64\n",
      "training column 39: month_7_temps, float64\n",
      "training column 40: month_8_temps, float64\n",
      "training column 41: month_9_temps, float64\n",
      "training column 42: status_labels, object\n",
      "training column 43: status, int64\n"
     ]
    }
   ],
   "source": [
    "labels = train_df.columns\n",
    "types = train_df.dtypes\n",
    "training_cols = list(range(0, 44))\n",
    "for i in training_cols:\n",
    "    print('training column {}: '.format(i) + str(labels[i]) + ', ' + str(types[i]))\n",
    "\n",
    "# Food for thought: How do I tell the difference without res (column 0) in there? LOL\n",
    "# would be nice to make dummy variables of other columns... ¯\\_(ツ)_/¯"
   ]
  },
  {
   "cell_type": "code",
   "execution_count": 42,
   "metadata": {},
   "outputs": [
    {
     "data": {
      "text/plain": [
       "((235, 32), (101, 32), (235,), (101,))"
      ]
     },
     "execution_count": 42,
     "metadata": {},
     "output_type": "execute_result"
    }
   ],
   "source": [
    "y = train_df.iloc[:,-1]\n",
    "X = train_df.iloc[:,9:41]\n",
    "\n",
    "X_train, X_test, y_train, y_test = train_test_split(X, y, test_size = 0.3, random_state = 143)\n",
    "\n",
    "X_train.shape, X_test.shape, y_train.shape, y_test.shape"
   ]
  },
  {
   "cell_type": "code",
   "execution_count": 43,
   "metadata": {
    "collapsed": true
   },
   "outputs": [],
   "source": [
    "# generate models dict\n",
    "models = {}\n",
    "models['logistic_regression'] = LogisticRegression()\n",
    "models['k_nearest_neighbors'] = KNeighborsClassifier(n_neighbors=3)\n",
    "models['gaussian_naive_bayes'] = GaussianNB()\n",
    "# models['support_vect_machine (kernel = linear)'] = SVC(kernel=\"linear\", C=0.025)\n",
    "models['support_vect_machine (gamma = 2)'] = SVC(gamma=2, C=1)\n",
    "models['decision_tree_classifier'] = DecisionTreeClassifier(max_depth = 3)\n",
    "models['random_forest_classifier'] = RandomForestClassifier(max_depth = 3, n_estimators = 10)\n",
    "# models['AdaBoosted Classifier'] = AdaBoostClassifier()\n",
    "# models['Multilayered Perceptron'] = MLPClassifier(alpha=1)\n",
    "\n",
    "# models.get('logistic_regression')"
   ]
  },
  {
   "cell_type": "markdown",
   "metadata": {},
   "source": [
    "### Evaluation"
   ]
  },
  {
   "cell_type": "code",
   "execution_count": 44,
   "metadata": {},
   "outputs": [
    {
     "name": "stdout",
     "output_type": "stream",
     "text": [
      "logistic_regression fitted!\n",
      "k_nearest_neighbors fitted!\n",
      "gaussian_naive_bayes fitted!\n",
      "support_vect_machine (gamma = 2) fitted!\n",
      "decision_tree_classifier fitted!\n",
      "random_forest_classifier fitted!\n"
     ]
    }
   ],
   "source": [
    "for name, model in models.items():\n",
    "    model = model.fit(X_train, y_train)\n",
    "    print(name + ' fitted!')"
   ]
  },
  {
   "cell_type": "code",
   "execution_count": 82,
   "metadata": {},
   "outputs": [
    {
     "name": "stdout",
     "output_type": "stream",
     "text": [
      "\n",
      "---------------- Model: logistic_regression ----------------\n",
      "\n",
      "Accuracy: 0.722772277228\n",
      "Precision: 0.722772277228\n",
      "Recall:  0.722772277228\n",
      "F1 Score:  0.722772277228\n",
      "\n",
      "logistic_regression Classification Report\n",
      "---------------------------------\n",
      "             precision    recall  f1-score   support\n",
      "\n",
      "          0       0.86      0.86      0.86         7\n",
      "          1       0.00      0.00      0.00         9\n",
      "          2       0.00      0.00      0.00        18\n",
      "          3       0.71      1.00      0.83        67\n",
      "\n",
      "avg / total       0.53      0.72      0.61       101\n",
      "\n",
      "\n",
      "---------------- Model: k_nearest_neighbors ----------------\n",
      "\n",
      "Accuracy: 0.633663366337\n",
      "Precision: 0.633663366337\n",
      "Recall:  0.633663366337\n",
      "F1 Score:  0.633663366337\n",
      "\n",
      "k_nearest_neighbors Classification Report\n",
      "---------------------------------\n",
      "             precision    recall  f1-score   support\n",
      "\n",
      "          0       0.50      0.86      0.63         7\n",
      "          1       0.29      0.22      0.25         9\n",
      "          2       0.07      0.06      0.06        18\n",
      "          3       0.81      0.82      0.81        67\n",
      "\n",
      "avg / total       0.61      0.63      0.62       101\n",
      "\n",
      "\n",
      "---------------- Model: gaussian_naive_bayes ----------------\n",
      "\n",
      "Accuracy: 0.405940594059\n",
      "Precision: 0.405940594059\n",
      "Recall:  0.405940594059\n",
      "F1 Score:  0.405940594059\n",
      "\n",
      "gaussian_naive_bayes Classification Report\n",
      "---------------------------------\n",
      "             precision    recall  f1-score   support\n",
      "\n",
      "          0       0.35      0.86      0.50         7\n",
      "          1       0.03      0.11      0.05         9\n",
      "          2       0.14      0.06      0.08        18\n",
      "          3       0.73      0.49      0.59        67\n",
      "\n",
      "avg / total       0.54      0.41      0.44       101\n",
      "\n",
      "\n",
      "---------------- Model: support_vect_machine (gamma = 2) ----------------\n",
      "\n",
      "Accuracy: 0.663366336634\n",
      "Precision: 0.663366336634\n",
      "Recall:  0.663366336634\n",
      "F1 Score:  0.663366336634\n",
      "\n",
      "support_vect_machine (gamma = 2) Classification Report\n",
      "---------------------------------\n",
      "             precision    recall  f1-score   support\n",
      "\n",
      "          0       0.00      0.00      0.00         7\n",
      "          1       0.00      0.00      0.00         9\n",
      "          2       0.00      0.00      0.00        18\n",
      "          3       0.66      1.00      0.80        67\n",
      "\n",
      "avg / total       0.44      0.66      0.53       101\n",
      "\n",
      "\n",
      "---------------- Model: decision_tree_classifier ----------------\n",
      "\n",
      "Accuracy: 1.0\n",
      "Precision: 1.0\n",
      "Recall:  1.0\n",
      "F1 Score:  1.0\n",
      "\n",
      "decision_tree_classifier Classification Report\n",
      "---------------------------------\n",
      "             precision    recall  f1-score   support\n",
      "\n",
      "          0       1.00      1.00      1.00         7\n",
      "          1       1.00      1.00      1.00         9\n",
      "          2       1.00      1.00      1.00        18\n",
      "          3       1.00      1.00      1.00        67\n",
      "\n",
      "avg / total       1.00      1.00      1.00       101\n",
      "\n",
      "\n",
      "---------------- Model: random_forest_classifier ----------------\n",
      "\n",
      "Accuracy: 0.980198019802\n",
      "Precision: 0.980198019802\n",
      "Recall:  0.980198019802\n",
      "F1 Score:  0.980198019802\n",
      "\n",
      "random_forest_classifier Classification Report\n",
      "---------------------------------\n",
      "             precision    recall  f1-score   support\n",
      "\n",
      "          0       0.88      1.00      0.93         7\n",
      "          1       1.00      0.89      0.94         9\n",
      "          2       1.00      0.94      0.97        18\n",
      "          3       0.99      1.00      0.99        67\n",
      "\n",
      "avg / total       0.98      0.98      0.98       101\n",
      "\n"
     ]
    }
   ],
   "source": [
    "y_true = np.array(y_test)\n",
    "\n",
    "# Show which is the best recall, precision, f1, and classification\n",
    "\n",
    "for name, model in models.items():\n",
    "    print('\\n---------------- Model: '+ name + ' ----------------\\n')\n",
    "    y_pred = model.predict(X_test)\n",
    "    accuracy = accuracy_score(y_true, y_pred)\n",
    "    # Average parameter required for multiclass labels\n",
    "    precision = precision_score(y_true, y_pred, average='micro')\n",
    "    recall = recall_score(y_true, y_pred, average = 'micro')\n",
    "    f1 = f1_score(y_true, y_pred, average='micro')\n",
    "    print('Accuracy: ' + str(accuracy))\n",
    "    print('Precision: ' + str(precision))\n",
    "    print('Recall: ', str(recall))\n",
    "    print('F1 Score: ', str(f1))\n",
    "    print('\\n' + name + ' Classification Report')\n",
    "    print('---------------------------------')\n",
    "    print(classification_report(y_true, y_pred))"
   ]
  },
  {
   "cell_type": "code",
   "execution_count": 55,
   "metadata": {
    "scrolled": true
   },
   "outputs": [
    {
     "data": {
      "image/png": "[encoded data removed]",
      "text/plain": [
       "<matplotlib.figure.Figure at 0x11798b4a8>"
      ]
     },
     "metadata": {},
     "output_type": "display_data"
    }
   ],
   "source": [
    "from sklearn_evaluation import plot\n",
    "fig = plot.confusion_matrix(y_true, y_pred)"
   ]
  },
  {
   "cell_type": "markdown",
   "metadata": {},
   "source": [
    "## BEST MODEL: RANDOM FOREST CLASSIFER\n",
    "- It's overfit, but it's the one that performs the best across all classes"
   ]
  },
  {
   "cell_type": "markdown",
   "metadata": {},
   "source": [
    "\n",
    "-----------------\n",
    "#### ASIDE: Feature Selection: Optimize Features for Models\n",
    "- If necessary: optimize features for best model"
   ]
  },
  {
   "cell_type": "code",
   "execution_count": 93,
   "metadata": {
    "collapsed": true,
    "scrolled": true
   },
   "outputs": [],
   "source": [
    "# labels = train_df.columns\n",
    "# types = train_df.dtypes\n",
    "# training_cols = list(range(0, 44))\n",
    "# for i in training_cols:\n",
    "#     print('training column {}: '.format(i) + str(labels[i]) + ', ' + str(types[i]))\n",
    "\n",
    "# # Food for thought: How do I tell the difference without res (column 0) in there? LOL\n",
    "# # would be nice to make dummy variables of other columns... ¯\\_(ツ)_/¯"
   ]
  },
  {
   "cell_type": "code",
   "execution_count": 95,
   "metadata": {
    "collapsed": true
   },
   "outputs": [],
   "source": [
    "# y = train_df.iloc[:,-1]\n",
    "# X = train_df.iloc[:,9:41]\n",
    "\n",
    "# X_train, X_test, y_train, y_test = train_test_split(X, y, test_size = 0.3, random_state = 143)\n",
    "\n",
    "# X_train.shape, X_test.shape, y_train.shape, y_test.shape"
   ]
  },
  {
   "cell_type": "code",
   "execution_count": 96,
   "metadata": {
    "collapsed": true
   },
   "outputs": [],
   "source": [
    "# # generate models dict\n",
    "# models = {}\n",
    "# models['logistic_regression'] = LogisticRegression()\n",
    "# models['k_nearest_neighbors'] = KNeighborsClassifier(n_neighbors=5)\n",
    "# models['gaussian_naive_bayes'] = GaussianNB()\n",
    "# models['support_vect_machine'] = SVC()\n",
    "# models['decision_tree_classifier'] = DecisionTreeClassifier(max_depth = 3)\n",
    "# models['random_forest_classifier'] = RandomForestClassifier(max_depth = 3, n_estimators = 10)\n",
    "\n",
    "# # models.get('logistic_regression')"
   ]
  },
  {
   "cell_type": "markdown",
   "metadata": {},
   "source": [
    "##### Evaluation"
   ]
  },
  {
   "cell_type": "code",
   "execution_count": 92,
   "metadata": {
    "collapsed": true
   },
   "outputs": [],
   "source": [
    "# y_true = np.array(y_test)\n",
    "\n",
    "# # Show which is the best recall, precision, f1, and classification\n",
    "\n",
    "# # for exporting to pickle:\n",
    "# # for name, model in models.items():\n",
    "# #    model = model.fit(X_train, y_train)\n",
    "\n",
    "# for name, model in models.items():\n",
    "#     model = model.fit(X_train, y_train)\n",
    "#     print('\\n---------------- Model: '+ name + ' ----------------\\n')\n",
    "#     y_pred = model.predict(X_test)\n",
    "#     accuracy = accuracy_score(y_true, y_pred)\n",
    "#     # Average parameter required for multiclass labels\n",
    "#     precision = precision_score(y_true, y_pred, average='micro')\n",
    "#     recall = recall_score(y_true, y_pred, average = 'micro')\n",
    "#     f1 = f1_score(y_true, y_pred, average='micro')\n",
    "#     print('Accuracy: ' + str(accuracy))\n",
    "#     print('Precision: ' + str(precision))\n",
    "#     print('Recall: ', str(recall))\n",
    "#     print('F1 Score: ', str(f1))\n",
    "#     print('\\n' + name + ' Classification Report')\n",
    "#     print('---------------------------------')\n",
    "#     print(classification_report(y_true, y_pred))"
   ]
  },
  {
   "cell_type": "code",
   "execution_count": 91,
   "metadata": {
    "collapsed": true
   },
   "outputs": [],
   "source": [
    "# fig = plot.confusion_matrix(y_true, y_pred)"
   ]
  },
  {
   "cell_type": "markdown",
   "metadata": {},
   "source": [
    "---------------\n",
    "\n",
    "## Hyperparameter Optimization: \n",
    "- Goal: optimize hyperparams for best model"
   ]
  },
  {
   "cell_type": "code",
   "execution_count": 98,
   "metadata": {
    "scrolled": true
   },
   "outputs": [
    {
     "name": "stdout",
     "output_type": "stream",
     "text": [
      "training column 0: res, object\n",
      "training column 1: name, object\n",
      "training column 2: dam, object\n",
      "training column 3: river, object\n",
      "training column 4: nearby_city, object\n",
      "training column 5: county, object\n",
      "training column 6: basin, object\n",
      "training column 7: agency, object\n",
      "training column 8: elevation, int64\n",
      "training column 9: lat, float64\n",
      "training column 10: long, float64\n",
      "training column 11: yr_complete, int64\n",
      "training column 12: type, int64\n",
      "training column 13: height_ft, int64\n",
      "training column 14: height_m, int64\n",
      "training column 15: capacity_af, int64\n",
      "training column 16: capacity_1000m3, int64\n",
      "training column 17: year_summer, int64\n",
      "training column 18: month_10_storage, float64\n",
      "training column 19: month_11_storage, float64\n",
      "training column 20: month_12_storage, float64\n",
      "training column 21: month_1_storage, float64\n",
      "training column 22: month_2_storage, float64\n",
      "training column 23: month_3_storage, float64\n",
      "training column 24: month_4_storage, float64\n",
      "training column 25: month_5_storage, float64\n",
      "training column 26: month_6_storage, float64\n",
      "training column 27: month_7_storage, float64\n",
      "training column 28: month_8_storage, float64\n",
      "training column 29: month_9_storage, float64\n",
      "training column 30: month_10_temps, float64\n",
      "training column 31: month_11_temps, float64\n",
      "training column 32: month_12_temps, float64\n",
      "training column 33: month_1_temps, float64\n",
      "training column 34: month_2_temps, float64\n",
      "training column 35: month_3_temps, float64\n",
      "training column 36: month_4_temps, float64\n",
      "training column 37: month_5_temps, float64\n",
      "training column 38: month_6_temps, float64\n",
      "training column 39: month_7_temps, float64\n",
      "training column 40: month_8_temps, float64\n",
      "training column 41: month_9_temps, float64\n",
      "training column 42: status_labels, object\n",
      "training column 43: status, int64\n"
     ]
    }
   ],
   "source": [
    "labels = train_df.columns\n",
    "types = train_df.dtypes\n",
    "training_cols = list(range(0, 44))\n",
    "for i in training_cols:\n",
    "    print('training column {}: '.format(i) + str(labels[i]) + ', ' + str(types[i]))\n",
    "\n",
    "# Food for thought: How do I tell the difference without res (column 0) in there? LOL\n",
    "# would be nice to make dummy variables of other columns... ¯\\_(ツ)_/¯"
   ]
  },
  {
   "cell_type": "code",
   "execution_count": 99,
   "metadata": {},
   "outputs": [
    {
     "data": {
      "text/plain": [
       "((235, 32), (101, 32), (235,), (101,))"
      ]
     },
     "execution_count": 99,
     "metadata": {},
     "output_type": "execute_result"
    }
   ],
   "source": [
    "y = train_df.iloc[:,-1]\n",
    "X = train_df.iloc[:,9:41]\n",
    "\n",
    "X_train, X_test, y_train, y_test = train_test_split(X, y, test_size = 0.3, random_state = 143)\n",
    "\n",
    "X_train.shape, X_test.shape, y_train.shape, y_test.shape"
   ]
  },
  {
   "cell_type": "code",
   "execution_count": 116,
   "metadata": {
    "collapsed": true
   },
   "outputs": [],
   "source": [
    "# Random Forest Classifier\n",
    "model = RandomForestClassifier(max_depth = 3, n_estimators = 3)\n",
    "model = model.fit(X_train, y_train)"
   ]
  },
  {
   "cell_type": "markdown",
   "metadata": {},
   "source": [
    "### Evaluation"
   ]
  },
  {
   "cell_type": "code",
   "execution_count": 117,
   "metadata": {},
   "outputs": [
    {
     "name": "stdout",
     "output_type": "stream",
     "text": [
      "\n",
      "---------------- Model: RandomForestClassifier ----------------\n",
      "\n",
      "Accuracy: 0.930693069307\n",
      "Precision: 0.930693069307\n",
      "Recall:  0.930693069307\n",
      "F1 Score:  0.930693069307\n",
      "\n",
      "random_forest_classifier Classification Report\n",
      "---------------------------------\n",
      "             precision    recall  f1-score   support\n",
      "\n",
      "          0       0.88      1.00      0.93         7\n",
      "          1       0.75      0.33      0.46         9\n",
      "          2       0.77      0.94      0.85        18\n",
      "          3       1.00      1.00      1.00        67\n",
      "\n",
      "avg / total       0.93      0.93      0.92       101\n",
      "\n"
     ]
    }
   ],
   "source": [
    "y_true = np.array(y_test)\n",
    "\n",
    "# Show which is the best recall, precision, f1, and classification\n",
    "\n",
    "# for exporting to pickle:\n",
    "# for name, model in models.items():\n",
    "#    model = model.fit(X_train, y_train)\n",
    "\n",
    "\n",
    "print('\\n---------------- Model: RandomForestClassifier ----------------\\n')\n",
    "y_pred = model.predict(X_test)\n",
    "accuracy = accuracy_score(y_true, y_pred)\n",
    "# Average parameter required for multiclass labels\n",
    "precision = precision_score(y_true, y_pred, average='micro')\n",
    "recall = recall_score(y_true, y_pred, average = 'micro')\n",
    "f1 = f1_score(y_true, y_pred, average='micro')\n",
    "print('Accuracy: ' + str(accuracy))\n",
    "print('Precision: ' + str(precision))\n",
    "print('Recall: ', str(recall))\n",
    "print('F1 Score: ', str(f1))\n",
    "print('\\n' + name + ' Classification Report')\n",
    "print('---------------------------------')\n",
    "print(classification_report(y_true, y_pred))"
   ]
  },
  {
   "cell_type": "code",
   "execution_count": 47,
   "metadata": {},
   "outputs": [
    {
     "data": {
      "image/png": "[encoded data removed]",
      "text/plain": [
       "<matplotlib.figure.Figure at 0x11dc1e438>"
      ]
     },
     "metadata": {},
     "output_type": "display_data"
    }
   ],
   "source": [
    "from sklearn_evaluation import plot\n",
    "fig = plot.confusion_matrix(y_true, y_pred)"
   ]
  },
  {
   "cell_type": "markdown",
   "metadata": {},
   "source": [
    "# YOU GOTTA GET A HOLDOUT SCORE"
   ]
  },
  {
   "cell_type": "code",
   "execution_count": 48,
   "metadata": {},
   "outputs": [
    {
     "data": {
      "text/html": [
       "<div>\n",
       "<table border=\"1\" class=\"dataframe\">\n",
       "  <thead>\n",
       "    <tr style=\"text-align: right;\">\n",
       "      <th></th>\n",
       "      <th>res</th>\n",
       "      <th>name</th>\n",
       "      <th>dam</th>\n",
       "      <th>river</th>\n",
       "      <th>nearby_city</th>\n",
       "      <th>county</th>\n",
       "      <th>basin</th>\n",
       "      <th>agency</th>\n",
       "      <th>elevation</th>\n",
       "      <th>lat</th>\n",
       "      <th>...</th>\n",
       "      <th>month_2_temps</th>\n",
       "      <th>month_3_temps</th>\n",
       "      <th>month_4_temps</th>\n",
       "      <th>month_5_temps</th>\n",
       "      <th>month_6_temps</th>\n",
       "      <th>month_7_temps</th>\n",
       "      <th>month_8_temps</th>\n",
       "      <th>month_9_temps</th>\n",
       "      <th>status_labels</th>\n",
       "      <th>status</th>\n",
       "    </tr>\n",
       "  </thead>\n",
       "  <tbody>\n",
       "    <tr>\n",
       "      <th>336</th>\n",
       "      <td>BRV</td>\n",
       "      <td>Big Bear Lake</td>\n",
       "      <td>Bear Valley Dam</td>\n",
       "      <td>Bear Creek</td>\n",
       "      <td>SAN BERNARDINO</td>\n",
       "      <td>SAN BERNARDINO</td>\n",
       "      <td>SANTA ANA R</td>\n",
       "      <td>Big Bear Municipal Water District</td>\n",
       "      <td>6743</td>\n",
       "      <td>34.2420</td>\n",
       "      <td>...</td>\n",
       "      <td>13.903</td>\n",
       "      <td>8.712</td>\n",
       "      <td>8.813</td>\n",
       "      <td>9.804</td>\n",
       "      <td>14.463</td>\n",
       "      <td>NaN</td>\n",
       "      <td>NaN</td>\n",
       "      <td>NaN</td>\n",
       "      <td>0</td>\n",
       "      <td>0</td>\n",
       "    </tr>\n",
       "    <tr>\n",
       "      <th>337</th>\n",
       "      <td>BRV</td>\n",
       "      <td>Big Bear Lake</td>\n",
       "      <td>Bear Valley Dam</td>\n",
       "      <td>Bear Creek</td>\n",
       "      <td>SAN BERNARDINO</td>\n",
       "      <td>SAN BERNARDINO</td>\n",
       "      <td>SANTA ANA R</td>\n",
       "      <td>Big Bear Municipal Water District</td>\n",
       "      <td>6743</td>\n",
       "      <td>34.2420</td>\n",
       "      <td>...</td>\n",
       "      <td>0.266</td>\n",
       "      <td>0.438</td>\n",
       "      <td>0.651</td>\n",
       "      <td>0.319</td>\n",
       "      <td>0.727</td>\n",
       "      <td>NaN</td>\n",
       "      <td>NaN</td>\n",
       "      <td>NaN</td>\n",
       "      <td>0</td>\n",
       "      <td>0</td>\n",
       "    </tr>\n",
       "    <tr>\n",
       "      <th>338</th>\n",
       "      <td>CAS</td>\n",
       "      <td>Castaic Lake</td>\n",
       "      <td>Castaic Dam</td>\n",
       "      <td>Castaic Creek</td>\n",
       "      <td>MONROVIA</td>\n",
       "      <td>LOS ANGELES</td>\n",
       "      <td>SAN GABRIEL R</td>\n",
       "      <td>Los Angeles County</td>\n",
       "      <td>2405</td>\n",
       "      <td>34.2450</td>\n",
       "      <td>...</td>\n",
       "      <td>13.903</td>\n",
       "      <td>8.712</td>\n",
       "      <td>8.813</td>\n",
       "      <td>9.804</td>\n",
       "      <td>14.463</td>\n",
       "      <td>NaN</td>\n",
       "      <td>NaN</td>\n",
       "      <td>NaN</td>\n",
       "      <td>0</td>\n",
       "      <td>0</td>\n",
       "    </tr>\n",
       "    <tr>\n",
       "      <th>339</th>\n",
       "      <td>CAS</td>\n",
       "      <td>Castaic Lake</td>\n",
       "      <td>Castaic Dam</td>\n",
       "      <td>Castaic Creek</td>\n",
       "      <td>MONROVIA</td>\n",
       "      <td>LOS ANGELES</td>\n",
       "      <td>SAN GABRIEL R</td>\n",
       "      <td>Los Angeles County</td>\n",
       "      <td>2405</td>\n",
       "      <td>34.2450</td>\n",
       "      <td>...</td>\n",
       "      <td>0.266</td>\n",
       "      <td>0.438</td>\n",
       "      <td>0.651</td>\n",
       "      <td>0.319</td>\n",
       "      <td>0.727</td>\n",
       "      <td>NaN</td>\n",
       "      <td>NaN</td>\n",
       "      <td>NaN</td>\n",
       "      <td>0</td>\n",
       "      <td>0</td>\n",
       "    </tr>\n",
       "    <tr>\n",
       "      <th>340</th>\n",
       "      <td>CGS</td>\n",
       "      <td>Cogswell Reservoir</td>\n",
       "      <td>Cogswell Dam</td>\n",
       "      <td>San Gabriel River, West Fork</td>\n",
       "      <td>CASTAIC</td>\n",
       "      <td>LOS ANGELES</td>\n",
       "      <td>SANTA CLARA R</td>\n",
       "      <td>CA Dept of Water Resources,  Southern Field Div</td>\n",
       "      <td>1535</td>\n",
       "      <td>34.5152</td>\n",
       "      <td>...</td>\n",
       "      <td>13.903</td>\n",
       "      <td>8.712</td>\n",
       "      <td>8.813</td>\n",
       "      <td>9.804</td>\n",
       "      <td>14.463</td>\n",
       "      <td>NaN</td>\n",
       "      <td>NaN</td>\n",
       "      <td>NaN</td>\n",
       "      <td>0</td>\n",
       "      <td>0</td>\n",
       "    </tr>\n",
       "  </tbody>\n",
       "</table>\n",
       "<p>5 rows × 44 columns</p>\n",
       "</div>"
      ],
      "text/plain": [
       "     res                name              dam                         river  \\\n",
       "336  BRV       Big Bear Lake  Bear Valley Dam                    Bear Creek   \n",
       "337  BRV       Big Bear Lake  Bear Valley Dam                    Bear Creek   \n",
       "338  CAS        Castaic Lake      Castaic Dam                 Castaic Creek   \n",
       "339  CAS        Castaic Lake      Castaic Dam                 Castaic Creek   \n",
       "340  CGS  Cogswell Reservoir     Cogswell Dam  San Gabriel River, West Fork   \n",
       "\n",
       "        nearby_city          county          basin  \\\n",
       "336  SAN BERNARDINO  SAN BERNARDINO    SANTA ANA R   \n",
       "337  SAN BERNARDINO  SAN BERNARDINO    SANTA ANA R   \n",
       "338        MONROVIA     LOS ANGELES  SAN GABRIEL R   \n",
       "339        MONROVIA     LOS ANGELES  SAN GABRIEL R   \n",
       "340         CASTAIC     LOS ANGELES  SANTA CLARA R   \n",
       "\n",
       "                                              agency  elevation      lat  \\\n",
       "336                Big Bear Municipal Water District       6743  34.2420   \n",
       "337                Big Bear Municipal Water District       6743  34.2420   \n",
       "338                               Los Angeles County       2405  34.2450   \n",
       "339                               Los Angeles County       2405  34.2450   \n",
       "340  CA Dept of Water Resources,  Southern Field Div       1535  34.5152   \n",
       "\n",
       "      ...    month_2_temps  month_3_temps  month_4_temps  month_5_temps  \\\n",
       "336   ...           13.903          8.712          8.813          9.804   \n",
       "337   ...            0.266          0.438          0.651          0.319   \n",
       "338   ...           13.903          8.712          8.813          9.804   \n",
       "339   ...            0.266          0.438          0.651          0.319   \n",
       "340   ...           13.903          8.712          8.813          9.804   \n",
       "\n",
       "     month_6_temps  month_7_temps  month_8_temps  month_9_temps  \\\n",
       "336         14.463            NaN            NaN            NaN   \n",
       "337          0.727            NaN            NaN            NaN   \n",
       "338         14.463            NaN            NaN            NaN   \n",
       "339          0.727            NaN            NaN            NaN   \n",
       "340         14.463            NaN            NaN            NaN   \n",
       "\n",
       "     status_labels  status  \n",
       "336              0       0  \n",
       "337              0       0  \n",
       "338              0       0  \n",
       "339              0       0  \n",
       "340              0       0  \n",
       "\n",
       "[5 rows x 44 columns]"
      ]
     },
     "execution_count": 48,
     "metadata": {},
     "output_type": "execute_result"
    }
   ],
   "source": [
    "holdout_df.head()"
   ]
  },
  {
   "cell_type": "code",
   "execution_count": 97,
   "metadata": {},
   "outputs": [
    {
     "data": {
      "text/plain": [
       "Index(['res', 'name', 'dam', 'river', 'nearby_city', 'county', 'basin',\n",
       "       'agency', 'elevation', 'lat', 'long', 'yr_complete', 'type',\n",
       "       'height_ft', 'height_m', 'capacity_af', 'capacity_1000m3',\n",
       "       'year_summer', 'month_10_storage', 'month_11_storage',\n",
       "       'month_12_storage', 'month_1_storage', 'month_2_storage',\n",
       "       'month_3_storage', 'month_4_storage', 'month_5_storage',\n",
       "       'month_6_storage', 'month_7_storage', 'month_8_storage',\n",
       "       'month_9_storage', 'month_10_temps', 'month_11_temps', 'month_12_temps',\n",
       "       'month_1_temps', 'month_2_temps', 'month_3_temps', 'month_4_temps',\n",
       "       'month_5_temps', 'month_6_temps', 'month_7_temps', 'month_8_temps',\n",
       "       'month_9_temps', 'status_labels', 'status'],\n",
       "      dtype='object')"
      ]
     },
     "execution_count": 97,
     "metadata": {},
     "output_type": "execute_result"
    }
   ],
   "source": [
    "holdout_df.columns"
   ]
  },
  {
   "cell_type": "code",
   "execution_count": null,
   "metadata": {
    "collapsed": true
   },
   "outputs": [],
   "source": []
  },
  {
   "cell_type": "markdown",
   "metadata": {},
   "source": [
    "# VISUALIZATION IN PLOTLY\n",
    "- EXAMPLES LIBRARY: https://plot.ly/python/\n",
    "- LEARNED THE HARD WAY: https://help.plot.ly/api-rate-limits/"
   ]
  },
  {
   "cell_type": "code",
   "execution_count": 49,
   "metadata": {},
   "outputs": [
    {
     "data": {
      "text/plain": [
       "'2.0.8'"
      ]
     },
     "execution_count": 49,
     "metadata": {},
     "output_type": "execute_result"
    }
   ],
   "source": [
    "import plotly\n",
    "from plotly import plotly as py\n",
    "import plotly.figure_factory as ff\n",
    "from plotly.graph_objs import *\n",
    "plotly.tools.set_config_file(world_readable=True, sharing='public')\n",
    "plotly.tools.set_credentials_file(username='atomahawk', api_key='sUtD0Bml8N5I3V7yRt7Y')\n",
    "plotly.__version__"
   ]
  },
  {
   "cell_type": "code",
   "execution_count": 50,
   "metadata": {
    "collapsed": true
   },
   "outputs": [],
   "source": [
    "mapbox_access_token = 'pk.eyJ1IjoiYXRvbWFoYXdrIiwiYSI6ImNqMnM0YWR3bjAwMjYyd252cTRtZzJpZWcifQ.AphbpmgHOEmotKr1Wzz0SQ'"
   ]
  },
  {
   "cell_type": "markdown",
   "metadata": {},
   "source": [
    "## Plot Interactive Linegraphs\n",
    "- make data look like example\n",
    "- make sure data is referenced correctly\n",
    "- make sure data is served up correctly"
   ]
  },
  {
   "cell_type": "code",
   "execution_count": 54,
   "metadata": {},
   "outputs": [
    {
     "data": {
      "text/html": [
       "<div>\n",
       "<table border=\"1\" class=\"dataframe\">\n",
       "  <thead>\n",
       "    <tr style=\"text-align: right;\">\n",
       "      <th></th>\n",
       "      <th>res</th>\n",
       "      <th>name</th>\n",
       "      <th>dam</th>\n",
       "      <th>river</th>\n",
       "      <th>nearby_city</th>\n",
       "      <th>county</th>\n",
       "      <th>basin</th>\n",
       "      <th>agency</th>\n",
       "      <th>elevation</th>\n",
       "      <th>lat</th>\n",
       "      <th>long</th>\n",
       "      <th>yr_complete</th>\n",
       "      <th>type</th>\n",
       "      <th>height_ft</th>\n",
       "      <th>height_m</th>\n",
       "      <th>capacity_af</th>\n",
       "      <th>capacity_1000m3</th>\n",
       "    </tr>\n",
       "  </thead>\n",
       "  <tbody>\n",
       "    <tr>\n",
       "      <th>0</th>\n",
       "      <td>BRV</td>\n",
       "      <td>Big Bear Lake</td>\n",
       "      <td>Bear Valley Dam</td>\n",
       "      <td>Bear Creek</td>\n",
       "      <td>SAN BERNARDINO</td>\n",
       "      <td>SAN BERNARDINO</td>\n",
       "      <td>SANTA ANA R</td>\n",
       "      <td>Big Bear Municipal Water District</td>\n",
       "      <td>6743</td>\n",
       "      <td>34.2420</td>\n",
       "      <td>-116.9780</td>\n",
       "      <td>1911</td>\n",
       "      <td>Multiple-Arch</td>\n",
       "      <td>80</td>\n",
       "      <td>24</td>\n",
       "      <td>74000</td>\n",
       "      <td>91000</td>\n",
       "    </tr>\n",
       "    <tr>\n",
       "      <th>1</th>\n",
       "      <td>CAS</td>\n",
       "      <td>Castaic Lake</td>\n",
       "      <td>Castaic Dam</td>\n",
       "      <td>Castaic Creek</td>\n",
       "      <td>MONROVIA</td>\n",
       "      <td>LOS ANGELES</td>\n",
       "      <td>SAN GABRIEL R</td>\n",
       "      <td>Los Angeles County</td>\n",
       "      <td>2405</td>\n",
       "      <td>34.2450</td>\n",
       "      <td>-117.9650</td>\n",
       "      <td>1973</td>\n",
       "      <td>Earth</td>\n",
       "      <td>340</td>\n",
       "      <td>100</td>\n",
       "      <td>323700</td>\n",
       "      <td>399300</td>\n",
       "    </tr>\n",
       "    <tr>\n",
       "      <th>2</th>\n",
       "      <td>CGS</td>\n",
       "      <td>Cogswell Reservoir</td>\n",
       "      <td>Cogswell Dam</td>\n",
       "      <td>San Gabriel River, West Fork</td>\n",
       "      <td>CASTAIC</td>\n",
       "      <td>LOS ANGELES</td>\n",
       "      <td>SANTA CLARA R</td>\n",
       "      <td>CA Dept of Water Resources,  Southern Field Div</td>\n",
       "      <td>1535</td>\n",
       "      <td>34.5152</td>\n",
       "      <td>-118.6101</td>\n",
       "      <td>1935</td>\n",
       "      <td>Rock-fill</td>\n",
       "      <td>266</td>\n",
       "      <td>81</td>\n",
       "      <td>8969</td>\n",
       "      <td>11063</td>\n",
       "    </tr>\n",
       "    <tr>\n",
       "      <th>3</th>\n",
       "      <td>DMV</td>\n",
       "      <td>Diamond Valley Lake</td>\n",
       "      <td>Diamond Valley Dam</td>\n",
       "      <td>Domenigoni Valley Creek</td>\n",
       "      <td>WINCHESTER</td>\n",
       "      <td>RIVERSIDE</td>\n",
       "      <td>SANTA MARGARITA R</td>\n",
       "      <td>Metropolitan Water District</td>\n",
       "      <td>1756</td>\n",
       "      <td>33.6700</td>\n",
       "      <td>-117.0660</td>\n",
       "      <td>1999</td>\n",
       "      <td>Earth, Rock</td>\n",
       "      <td>284</td>\n",
       "      <td>87</td>\n",
       "      <td>800000</td>\n",
       "      <td>987000</td>\n",
       "    </tr>\n",
       "    <tr>\n",
       "      <th>4</th>\n",
       "      <td>MHW</td>\n",
       "      <td>Lake Mathews</td>\n",
       "      <td>Mathews Dam</td>\n",
       "      <td>Cajalco Creek tributary</td>\n",
       "      <td>CORONA</td>\n",
       "      <td>RIVERSIDE</td>\n",
       "      <td>SANTA ANA AB NARROWS</td>\n",
       "      <td>Metropolitan Water District</td>\n",
       "      <td>1404</td>\n",
       "      <td>33.8330</td>\n",
       "      <td>-117.4600</td>\n",
       "      <td>1938</td>\n",
       "      <td>Earth</td>\n",
       "      <td>264</td>\n",
       "      <td>80</td>\n",
       "      <td>182000</td>\n",
       "      <td>224000</td>\n",
       "    </tr>\n",
       "  </tbody>\n",
       "</table>\n",
       "</div>"
      ],
      "text/plain": [
       "   res                 name                 dam                         river  \\\n",
       "0  BRV        Big Bear Lake     Bear Valley Dam                    Bear Creek   \n",
       "1  CAS         Castaic Lake         Castaic Dam                 Castaic Creek   \n",
       "2  CGS   Cogswell Reservoir        Cogswell Dam  San Gabriel River, West Fork   \n",
       "3  DMV  Diamond Valley Lake  Diamond Valley Dam       Domenigoni Valley Creek   \n",
       "4  MHW         Lake Mathews         Mathews Dam       Cajalco Creek tributary   \n",
       "\n",
       "      nearby_city          county                 basin  \\\n",
       "0  SAN BERNARDINO  SAN BERNARDINO           SANTA ANA R   \n",
       "1        MONROVIA     LOS ANGELES         SAN GABRIEL R   \n",
       "2         CASTAIC     LOS ANGELES         SANTA CLARA R   \n",
       "3      WINCHESTER       RIVERSIDE     SANTA MARGARITA R   \n",
       "4          CORONA       RIVERSIDE  SANTA ANA AB NARROWS   \n",
       "\n",
       "                                            agency  elevation      lat  \\\n",
       "0                Big Bear Municipal Water District       6743  34.2420   \n",
       "1                               Los Angeles County       2405  34.2450   \n",
       "2  CA Dept of Water Resources,  Southern Field Div       1535  34.5152   \n",
       "3                      Metropolitan Water District       1756  33.6700   \n",
       "4                      Metropolitan Water District       1404  33.8330   \n",
       "\n",
       "       long  yr_complete           type  height_ft  height_m  capacity_af  \\\n",
       "0 -116.9780         1911  Multiple-Arch         80        24        74000   \n",
       "1 -117.9650         1973          Earth        340       100       323700   \n",
       "2 -118.6101         1935      Rock-fill        266        81         8969   \n",
       "3 -117.0660         1999    Earth, Rock        284        87       800000   \n",
       "4 -117.4600         1938          Earth        264        80       182000   \n",
       "\n",
       "   capacity_1000m3  \n",
       "0            91000  \n",
       "1           399300  \n",
       "2            11063  \n",
       "3           987000  \n",
       "4           224000  "
      ]
     },
     "execution_count": 54,
     "metadata": {},
     "output_type": "execute_result"
    }
   ],
   "source": [
    "file_path = 'Capacitys_final.csv'\n",
    "cap_df = pd.read_csv(file_path)\n",
    "cap_df.head()"
   ]
  },
  {
   "cell_type": "code",
   "execution_count": 52,
   "metadata": {},
   "outputs": [
    {
     "data": {
      "text/html": [
       "<div>\n",
       "<table border=\"1\" class=\"dataframe\">\n",
       "  <thead>\n",
       "    <tr style=\"text-align: right;\">\n",
       "      <th></th>\n",
       "      <th>DATE</th>\n",
       "      <th>BRV</th>\n",
       "      <th>CAS</th>\n",
       "      <th>CGS</th>\n",
       "      <th>DMV</th>\n",
       "      <th>MHW</th>\n",
       "      <th>PRR</th>\n",
       "      <th>PRU</th>\n",
       "      <th>PYM</th>\n",
       "      <th>RLC</th>\n",
       "      <th>SGB</th>\n",
       "      <th>SGC</th>\n",
       "      <th>SKN</th>\n",
       "      <th>SLW</th>\n",
       "      <th>SVO</th>\n",
       "    </tr>\n",
       "  </thead>\n",
       "  <tbody>\n",
       "    <tr>\n",
       "      <th>0</th>\n",
       "      <td>6/1/00</td>\n",
       "      <td>0.80419</td>\n",
       "      <td>0.95060</td>\n",
       "      <td>0.44565</td>\n",
       "      <td>0.26514</td>\n",
       "      <td>0.79516</td>\n",
       "      <td>0.85646</td>\n",
       "      <td>0.735</td>\n",
       "      <td>0.87709</td>\n",
       "      <td>0.90958</td>\n",
       "      <td>0.62753</td>\n",
       "      <td>0.3370</td>\n",
       "      <td>0.86686</td>\n",
       "      <td>0.97986</td>\n",
       "      <td>0.02023</td>\n",
       "    </tr>\n",
       "    <tr>\n",
       "      <th>1</th>\n",
       "      <td>7/1/00</td>\n",
       "      <td>0.77514</td>\n",
       "      <td>0.92983</td>\n",
       "      <td>0.37853</td>\n",
       "      <td>0.28669</td>\n",
       "      <td>0.71482</td>\n",
       "      <td>0.84980</td>\n",
       "      <td>0.739</td>\n",
       "      <td>0.91191</td>\n",
       "      <td>0.84966</td>\n",
       "      <td>0.46303</td>\n",
       "      <td>0.2434</td>\n",
       "      <td>0.74871</td>\n",
       "      <td>0.96921</td>\n",
       "      <td>0.02023</td>\n",
       "    </tr>\n",
       "    <tr>\n",
       "      <th>2</th>\n",
       "      <td>8/1/00</td>\n",
       "      <td>0.75507</td>\n",
       "      <td>0.91235</td>\n",
       "      <td>0.31787</td>\n",
       "      <td>0.30107</td>\n",
       "      <td>0.63114</td>\n",
       "      <td>0.84565</td>\n",
       "      <td>0.741</td>\n",
       "      <td>0.89366</td>\n",
       "      <td>0.79580</td>\n",
       "      <td>0.25209</td>\n",
       "      <td>0.2424</td>\n",
       "      <td>0.76545</td>\n",
       "      <td>0.95040</td>\n",
       "      <td>0.02023</td>\n",
       "    </tr>\n",
       "    <tr>\n",
       "      <th>3</th>\n",
       "      <td>9/1/00</td>\n",
       "      <td>1.00000</td>\n",
       "      <td>0.88022</td>\n",
       "      <td>0.25711</td>\n",
       "      <td>0.32553</td>\n",
       "      <td>0.56074</td>\n",
       "      <td>0.84101</td>\n",
       "      <td>0.569</td>\n",
       "      <td>0.91311</td>\n",
       "      <td>0.74361</td>\n",
       "      <td>0.17000</td>\n",
       "      <td>0.2524</td>\n",
       "      <td>0.93964</td>\n",
       "      <td>0.95823</td>\n",
       "      <td>0.02023</td>\n",
       "    </tr>\n",
       "    <tr>\n",
       "      <th>4</th>\n",
       "      <td>10/1/00</td>\n",
       "      <td>1.00000</td>\n",
       "      <td>0.83506</td>\n",
       "      <td>0.19010</td>\n",
       "      <td>0.37187</td>\n",
       "      <td>0.50705</td>\n",
       "      <td>0.83373</td>\n",
       "      <td>0.388</td>\n",
       "      <td>0.91936</td>\n",
       "      <td>0.71244</td>\n",
       "      <td>0.14619</td>\n",
       "      <td>0.2450</td>\n",
       "      <td>0.89305</td>\n",
       "      <td>0.94899</td>\n",
       "      <td>0.02023</td>\n",
       "    </tr>\n",
       "  </tbody>\n",
       "</table>\n",
       "</div>"
      ],
      "text/plain": [
       "      DATE      BRV      CAS      CGS      DMV      MHW      PRR    PRU  \\\n",
       "0   6/1/00  0.80419  0.95060  0.44565  0.26514  0.79516  0.85646  0.735   \n",
       "1   7/1/00  0.77514  0.92983  0.37853  0.28669  0.71482  0.84980  0.739   \n",
       "2   8/1/00  0.75507  0.91235  0.31787  0.30107  0.63114  0.84565  0.741   \n",
       "3   9/1/00  1.00000  0.88022  0.25711  0.32553  0.56074  0.84101  0.569   \n",
       "4  10/1/00  1.00000  0.83506  0.19010  0.37187  0.50705  0.83373  0.388   \n",
       "\n",
       "       PYM      RLC      SGB     SGC      SKN      SLW      SVO  \n",
       "0  0.87709  0.90958  0.62753  0.3370  0.86686  0.97986  0.02023  \n",
       "1  0.91191  0.84966  0.46303  0.2434  0.74871  0.96921  0.02023  \n",
       "2  0.89366  0.79580  0.25209  0.2424  0.76545  0.95040  0.02023  \n",
       "3  0.91311  0.74361  0.17000  0.2524  0.93964  0.95823  0.02023  \n",
       "4  0.91936  0.71244  0.14619  0.2450  0.89305  0.94899  0.02023  "
      ]
     },
     "execution_count": 52,
     "metadata": {},
     "output_type": "execute_result"
    }
   ],
   "source": [
    "file_path = 'StorageAF_res_columns_final.csv'\n",
    "# file_path = 'StorageAF_rotated.csv'\n",
    "raw_df = pd.read_csv(file_path)\n",
    "raw_df.head()"
   ]
  },
  {
   "cell_type": "code",
   "execution_count": 60,
   "metadata": {},
   "outputs": [
    {
     "data": {
      "text/plain": [
       "Index(['DATE', 'BRV', 'CAS', 'CGS', 'DMV', 'MHW', 'PRR', 'PRU', 'PYM', 'RLC',\n",
       "       'SGB', 'SGC', 'SKN', 'SLW', 'SVO'],\n",
       "      dtype='object')"
      ]
     },
     "execution_count": 60,
     "metadata": {},
     "output_type": "execute_result"
    }
   ],
   "source": [
    "raw_df.columns"
   ]
  },
  {
   "cell_type": "code",
   "execution_count": 71,
   "metadata": {},
   "outputs": [
    {
     "data": {
      "text/html": [
       "<iframe id=\"igraph\" scrolling=\"no\" style=\"border:none;\" seamless=\"seamless\" src=\"https://plot.ly/~atomahawk/48.embed\" height=\"525px\" width=\"100%\"></iframe>"
      ],
      "text/plain": [
       "<plotly.tools.PlotlyDisplay object>"
      ]
     },
     "execution_count": 71,
     "metadata": {},
     "output_type": "execute_result"
    }
   ],
   "source": [
    "dates = raw_df['DATE']\n",
    "BRV = raw_df['BRV']\n",
    "CAS = raw_df['CAS']\n",
    "CGS = raw_df['CGS']\n",
    "DMV = raw_df['DMV']\n",
    "MHW = raw_df['MHW']\n",
    "PRR = raw_df['PRR']\n",
    "PRU = raw_df['PRU']\n",
    "PYM = raw_df['PYM']\n",
    "RLC = raw_df['RLC']\n",
    "SGB = raw_df['SGB']\n",
    "SGC = raw_df['SGC']\n",
    "SKN = raw_df['SKN']\n",
    "SLW = raw_df['SLW']\n",
    "SVO = raw_df['SVO']\n",
    "\n",
    "#fix the colors: \n",
    "trace1 = Scatter(\n",
    "    x=dates, y=BRV,\n",
    "    line=Line(\n",
    "        color= 'rgb(255, 64, 0)',\n",
    "        width=3\n",
    "    ),\n",
    "    name='BRV'\n",
    ")\n",
    "\n",
    "trace2 = Scatter(\n",
    "    x=dates, y=CAS,\n",
    "    line=Line(\n",
    "        color='rgb(255, 191, 0)',\n",
    "        width=3\n",
    "    ),\n",
    "    name='CAS'\n",
    ")\n",
    "\n",
    "trace3 = Scatter(\n",
    "    x=dates, y=CGS,\n",
    "    line=Line(\n",
    "        color='rgb(255, 255, 0)',\n",
    "        width=3\n",
    "    ),\n",
    "    name='CGS'\n",
    ")\n",
    "\n",
    "trace4 = Scatter(\n",
    "    x=dates, y=DMV,\n",
    "    line=Line(\n",
    "        color='rgb(64, 255, 0)',\n",
    "        width=3\n",
    "    ),\n",
    "    name='DMV'\n",
    ")\n",
    "\n",
    "trace5 = Scatter(\n",
    "    x=dates, y=MHW,\n",
    "    line=Line(\n",
    "        color='rgb(0, 255, 191)',\n",
    "        width=3\n",
    "    ),\n",
    "    name='MHW'\n",
    ")\n",
    "\n",
    "trace6 = Scatter(\n",
    "    x=dates, y=PRR,\n",
    "    line=Line(\n",
    "        color='rgb(0, 191, 255)',\n",
    "        width=3\n",
    "    ),\n",
    "    name='PRR'\n",
    ")\n",
    "\n",
    "trace7 = Scatter(\n",
    "    x=dates, y=PRU,\n",
    "    line=Line(\n",
    "        color='rgb(0, 64, 255)',\n",
    "        width=3\n",
    "    ),\n",
    "    name='PRU'\n",
    ")\n",
    "\n",
    "trace8 = Scatter(\n",
    "    x=dates, y=PYM,\n",
    "    line=Line(\n",
    "        color='#000000',\n",
    "        width=3\n",
    "    ),\n",
    "    name='PYM'\n",
    ")\n",
    "\n",
    "trace9 = Scatter(\n",
    "    x=dates, y=RLC,\n",
    "    line=Line(\n",
    "        color='rgb(128, 0, 255)',\n",
    "        width=3\n",
    "    ),\n",
    "    name='RLC'\n",
    ")\n",
    "\n",
    "trace10 = Scatter(\n",
    "    x=dates, y=SGB,\n",
    "    line=Line(\n",
    "        color='rgb(255, 0, 191)',\n",
    "        width=3\n",
    "    ),\n",
    "    name='SGB'\n",
    ")\n",
    "\n",
    "trace11 = Scatter(\n",
    "    x=dates, y=SGC,\n",
    "    line=Line(\n",
    "        color='rgb(204, 0, 10',\n",
    "        width=3\n",
    "    ),\n",
    "    name='SGC'\n",
    ")\n",
    "\n",
    "trace12 = Scatter(\n",
    "    x=dates, y=SKN,\n",
    "    line=Line(\n",
    "        color='rgb(204, 102, 0)',\n",
    "        width=3\n",
    "    ),\n",
    "    name='SKN'\n",
    ")\n",
    "\n",
    "trace13 = Scatter(\n",
    "    x=dates, y=SLW,\n",
    "    line=Line(\n",
    "        color='rgb(117, 102, 87)',\n",
    "        width=3\n",
    "    ),\n",
    "    name='SLW'\n",
    ")\n",
    "\n",
    "trace14 = Scatter(\n",
    "    x=dates, y=SVO,\n",
    "    line=Line(\n",
    "        color='rgb(0, 0, 0)',\n",
    "        width=3\n",
    "    ),\n",
    "    name='SVO'\n",
    ")\n",
    "\n",
    "data = Data([trace1, trace2, trace3, trace4, trace5, trace6, trace7, trace8, trace9, trace10, trace11, trace12, trace13, trace14])\n",
    "layout = Layout(\n",
    "    title='Storage for Major Reservoirs around Los Angeles County',\n",
    "    updatemenus=list([\n",
    "        dict(\n",
    "            x=-0.05,\n",
    "            y=1,\n",
    "            yanchor='top',\n",
    "            buttons=list([\n",
    "                # fix the booleans\n",
    "                dict(\n",
    "                    args=['visible', [True, True, True, True, True, True, True, True, True, True, True, True, True, True]],\n",
    "                    label='All',\n",
    "                    method='restyle'\n",
    "                ),\n",
    "                dict(\n",
    "                    args=['visible', [True, False, False, False, False, False, False, False, False, False, False, False, False, False]],\n",
    "                    label='BRV',\n",
    "                    method='restyle'\n",
    "                ),\n",
    "                dict(\n",
    "                    args=['visible', [False, True, False, False, False, False, False, False, False, False, False, False, False, False]],\n",
    "                    label='CAS',\n",
    "                    method='restyle'\n",
    "                ),\n",
    "                dict(\n",
    "                    args=['visible', [False, False, True, False, False, False, False, False, False, False, False, False, False, False]],\n",
    "                    label='CGS',\n",
    "                    method='restyle'\n",
    "                ),\n",
    "                dict(\n",
    "                    args=['visible', [False, False, False, True, False, False, False, False, False, False, False, False, False, False]],\n",
    "                    label='DMV',\n",
    "                    method='restyle'\n",
    "                ),\n",
    "                dict(\n",
    "                    args=['visible', [False, False, False, False, True, False, False, False, False, False, False, False, False, False]],\n",
    "                    label='MHW',\n",
    "                    method='restyle'\n",
    "                ),\n",
    "                dict(\n",
    "                    args=['visible', [False, False, False, False, False, True, False, False, False, False, False, False, False, False]],\n",
    "                    label='PRR',\n",
    "                    method='restyle'\n",
    "                ),\n",
    "                dict(\n",
    "                    args=['visible', [False, False, False, False, False, False, True, False, False, False, False, False, False, False]],\n",
    "                    label='PRU',\n",
    "                    method='restyle'\n",
    "                ),\n",
    "                \n",
    "                dict(\n",
    "                    args=['visible', [False, False, False, False, False, False, False, True, False, False, False, False, False, False]],\n",
    "                    label='PYM',\n",
    "                    method='restyle'\n",
    "                ),\n",
    "                \n",
    "                dict( \n",
    "                    args=['visible', [False, False, False, False, False, False, False, False, True, False, False, False, False, False]], \n",
    "                    label='RLC', \n",
    "                    method='restyle'\n",
    "                ),\n",
    "                \n",
    "                dict(\n",
    "                    args=['visible', [False, False, False, False, False, False, False, False, False, True, False, False, False, False]],\n",
    "                    label='SGB',\n",
    "                    method='restyle'\n",
    "                ),\n",
    "                dict(\n",
    "                    args=['visible', [False, False, False, False, False, False, False, False, False, False, True, False, False, False]],\n",
    "                    label='SGC',\n",
    "                    method='restyle'\n",
    "                ),\n",
    "                dict(\n",
    "                    args=['visible', [False, False, False, False, False, False, False, False, False, False, False, True, False, False]],\n",
    "                    label='SKN',\n",
    "                    method='restyle'\n",
    "                ),\n",
    "                dict(\n",
    "                    args=['visible', [False, False, False, False, False, False, False, False, False, False, False, False, True, False]],\n",
    "                    label='SLW',\n",
    "                    method='restyle'\n",
    "                ),\n",
    "                dict(\n",
    "                    args=['visible', [False, False, False, False, False, False, False, False, False, False, False, False, False, True]],\n",
    "                    label='SVO',\n",
    "                    method='restyle'\n",
    "                )\n",
    "            ]),\n",
    "        )\n",
    "    ]),\n",
    ")\n",
    "fig = Figure(data=data, layout=layout)\n",
    "py.iplot(fig, filename = 'LA Reservoir Storage over Time')"
   ]
  },
  {
   "cell_type": "markdown",
   "metadata": {},
   "source": [
    "## Plot Interactive Mapbox with Dropdown Menus\n",
    "- make sure each year gets its own map\n",
    "  - maybe timeseries: https://plot.ly/python/time-series/\n",
    "  - scatterbox documentation: https://plot.ly/python/reference/#scattermapbox\n",
    "  \n",
    "  \n",
    "- make sure data is referenced correctly\n",
    "- make sure data is served up correctly\n",
    "- serve it up as a dashboard: https://plot.ly/python/create-online-dashboard/\n",
    "- embed in html: https://plot.ly/python/embedding-plotly-graphs-in-HTML/"
   ]
  },
  {
   "cell_type": "code",
   "execution_count": 67,
   "metadata": {
    "collapsed": true
   },
   "outputs": [],
   "source": [
    "json_data = pd.read_json('https://raw.githubusercontent.com/ottlngr/2016-15/ottlngr/ottlngr/sites.json')"
   ]
  },
  {
   "cell_type": "code",
   "execution_count": 70,
   "metadata": {},
   "outputs": [
    {
     "data": {
      "text/plain": [
       "[{'latitude': 41.060828,\n",
       "  'longitude': -80.637267,\n",
       "  'name': '',\n",
       "  'postal_code': '44512',\n",
       "  'street_address': '3991 Simon Road'}]"
      ]
     },
     "execution_count": 70,
     "metadata": {},
     "output_type": "execute_result"
    }
   ],
   "source": [
    "json_data['locations'][7]"
   ]
  },
  {
   "cell_type": "code",
   "execution_count": 68,
   "metadata": {},
   "outputs": [
    {
     "data": {
      "text/plain": [
       "{'city': 'Youngstown',\n",
       " 'name': 'Ajax Magnethermic Corp.',\n",
       " 'rating': 2,\n",
       " 'slug': '8-ajax-magnethermic-corp',\n",
       " 'state': 'OH',\n",
       " 'state_ap': 'Ohio'}"
      ]
     },
     "execution_count": 68,
     "metadata": {},
     "output_type": "execute_result"
    }
   ],
   "source": [
    "json_data['site'][7]"
   ]
  },
  {
   "cell_type": "code",
   "execution_count": 78,
   "metadata": {},
   "outputs": [
    {
     "data": {
      "text/plain": [
       "(28, 45)"
      ]
     },
     "execution_count": 78,
     "metadata": {},
     "output_type": "execute_result"
    }
   ],
   "source": [
    "df3 = df2\n",
    "df3['full_name'] = df3['name'] +' ('+ df3['res'] +')'\n",
    "# df4 = df3[df3['year_summer'] == 2001]\n",
    "# df4.shape"
   ]
  },
  {
   "cell_type": "code",
   "execution_count": 89,
   "metadata": {
    "collapsed": true
   },
   "outputs": [],
   "source": [
    "site_lat = []\n",
    "site_lon = []\n",
    "res_name = []\n",
    "colors = []\n",
    "year_list = list(df['year_summer'].unique())\n",
    "\n",
    "for year in year_list:\n",
    "    tmp_df = df[df['year_summer'] == year]\n",
    "    for index in range(len(tmp_df)):\n",
    "        site_lat.append(tmp_df['lat'][index])\n",
    "        site_lon.append(tmp_df['long'][index])\n",
    "        res_name.append(tmp_df['full_name'][index])\n",
    "\n",
    "        # add colors to list depending on 'status' value\n",
    "        if tmp_df['status'][index] == 3:\n",
    "            colors.append('rgb(0, 204, 0)')\n",
    "        elif tmp_df['status'][index] == 2:\n",
    "            colors.append('rgb(255, 255, 82)')\n",
    "        elif tmp_df['status'][index] == 1:\n",
    "            colors.append('rgb(255, 168, 82)')\n",
    "        else:\n",
    "            colors.append('rgb(255, 80, 80)')\n",
    "\n",
    "    data = Data([\n",
    "        Scattermapbox(\n",
    "            lat=site_lat,\n",
    "            lon=site_lon,\n",
    "            mode='markers',\n",
    "            marker=Marker(\n",
    "                size=17,\n",
    "                color=colors,\n",
    "                opacity=0.7\n",
    "            ),\n",
    "            text=res_name,\n",
    "            hoverinfo='text',\n",
    "            showlegend=False\n",
    "        ),\n",
    "        Scattermapbox(\n",
    "            lat=site_lat,\n",
    "            lon=site_lon,\n",
    "            mode='markers',\n",
    "            marker=Marker(\n",
    "                size=8,\n",
    "                color='rgb(168, 168, 168)',\n",
    "                opacity=0.01\n",
    "            ),\n",
    "            hoverinfo='skip',\n",
    "            showlegend=False\n",
    "        )\n",
    "    ])\n",
    "\n",
    "    layout = Layout(\n",
    "        title='Reservoir Storage Capacities in {}'.format(tmp_df['year_summer'][1]),\n",
    "        autosize=True,\n",
    "        hovermode='closest',\n",
    "        mapbox=dict(\n",
    "            accesstoken=mapbox_access_token,\n",
    "            bearing=0,\n",
    "            # centered on SGB\n",
    "            center=dict(\n",
    "                lat=34.207,\n",
    "                lon=-117.858\n",
    "            ),\n",
    "            pitch=0,\n",
    "            zoom=7,\n",
    "            style='light'\n",
    "        )\n",
    "    )\n",
    "\n",
    "    fig = dict(data=data, layout=layout)\n",
    "    py.iplot(fig, filename='Reservoir Storage Capacities in ' + str(year))"
   ]
  },
  {
   "cell_type": "code",
   "execution_count": null,
   "metadata": {
    "collapsed": true
   },
   "outputs": [],
   "source": [
    "site_lat = []\n",
    "site_lon = []\n",
    "res_name = []\n",
    "colors = []\n",
    "for index in range(len(df4)):\n",
    "    site_lat.append(df4['lat'][index])\n",
    "    site_lon.append(df4['long'][index])\n",
    "    res_name.append(df4['full_name'][index])\n",
    "\n",
    "    # add colors to list depending on 'status' value\n",
    "    if df4['status'][index] == 3:\n",
    "        colors.append('rgb(0, 204, 0)')\n",
    "    elif df4['status'][index] == 2:\n",
    "        colors.append('rgb(255, 255, 82)')\n",
    "    elif df4['status'][index] == 1:\n",
    "        colors.append('rgb(255, 168, 82)')\n",
    "    else:\n",
    "        colors.append('rgb(255, 80, 80)')\n",
    "\n",
    "data = Data([\n",
    "    Scattermapbox(\n",
    "        lat=site_lat,\n",
    "        lon=site_lon,\n",
    "        mode='markers',\n",
    "        marker=Marker(\n",
    "            size=17,\n",
    "            color=colors,\n",
    "            opacity=0.7\n",
    "        ),\n",
    "        text=res_name,\n",
    "        hoverinfo='text',\n",
    "        showlegend=False\n",
    "    ),\n",
    "    Scattermapbox(\n",
    "        lat=site_lat,\n",
    "        lon=site_lon,\n",
    "        mode='markers',\n",
    "        marker=Marker(\n",
    "            size=8,\n",
    "            color='rgb(168, 168, 168)',\n",
    "            opacity=0.01\n",
    "        ),\n",
    "        hoverinfo='skip',\n",
    "        showlegend=False\n",
    "    )\n",
    "])\n",
    "\n",
    "layout = Layout(\n",
    "    title='Reservoir Storage Capacities in {}'.format(df4['year_summer'][1]),\n",
    "    autosize=True,\n",
    "    hovermode='closest',\n",
    "    mapbox=dict(\n",
    "        accesstoken=mapbox_access_token,\n",
    "        bearing=0,\n",
    "        # centered on SGB\n",
    "        center=dict(\n",
    "            lat=34.207,\n",
    "            lon=-117.858\n",
    "        ),\n",
    "        pitch=0,\n",
    "        zoom=7,\n",
    "        style='light'\n",
    "    )\n",
    ")\n",
    "\n",
    "fig = dict(data=data, layout=layout)\n",
    "py.iplot(fig, filename='Reservoir Storage Capacities in 2001')"
   ]
  },
  {
   "cell_type": "code",
   "execution_count": null,
   "metadata": {
    "collapsed": true
   },
   "outputs": [],
   "source": []
  },
  {
   "cell_type": "code",
   "execution_count": 72,
   "metadata": {},
   "outputs": [
    {
     "data": {
      "text/html": [
       "<div>\n",
       "<table border=\"1\" class=\"dataframe\">\n",
       "  <thead>\n",
       "    <tr style=\"text-align: right;\">\n",
       "      <th></th>\n",
       "      <th>locations</th>\n",
       "      <th>site</th>\n",
       "    </tr>\n",
       "  </thead>\n",
       "  <tbody>\n",
       "    <tr>\n",
       "      <th>0</th>\n",
       "      <td>[{'latitude': 43.02938, 'longitude': -83.65525...</td>\n",
       "      <td>{'city': 'Flint', 'name': 'AC Spark Plug, Dort...</td>\n",
       "    </tr>\n",
       "    <tr>\n",
       "      <th>1</th>\n",
       "      <td>[]</td>\n",
       "      <td>{'city': 'Albuquerque', 'name': 'ACF Industrie...</td>\n",
       "    </tr>\n",
       "    <tr>\n",
       "      <th>2</th>\n",
       "      <td>[]</td>\n",
       "      <td>{'city': 'Buffalo', 'name': 'ACF Industries, I...</td>\n",
       "    </tr>\n",
       "    <tr>\n",
       "      <th>3</th>\n",
       "      <td>[{'latitude': 35.8888273, 'longitude': -106.30...</td>\n",
       "      <td>{'city': 'Los Alamos', 'name': 'Acid/Pueblo Ca...</td>\n",
       "    </tr>\n",
       "    <tr>\n",
       "      <th>4</th>\n",
       "      <td>[{'latitude': 39.952953, 'longitude': -75.5927...</td>\n",
       "      <td>{'city': 'West Chester', 'name': 'Aeroprojects...</td>\n",
       "    </tr>\n",
       "    <tr>\n",
       "      <th>5</th>\n",
       "      <td>[{'latitude': 40.705709, 'longitude': -74.0110...</td>\n",
       "      <td>{'city': 'New York', 'name': 'African Metals',...</td>\n",
       "    </tr>\n",
       "    <tr>\n",
       "      <th>6</th>\n",
       "      <td>[{'latitude': 39.2351293, 'longitude': -84.446...</td>\n",
       "      <td>{'city': 'Evendale/Lockland', 'name': 'Air For...</td>\n",
       "    </tr>\n",
       "    <tr>\n",
       "      <th>7</th>\n",
       "      <td>[{'latitude': 41.060828, 'longitude': -80.6372...</td>\n",
       "      <td>{'city': 'Youngstown', 'name': 'Ajax Magnether...</td>\n",
       "    </tr>\n",
       "    <tr>\n",
       "      <th>8</th>\n",
       "      <td>[{'latitude': None, 'longitude': None, 'postal...</td>\n",
       "      <td>{'city': 'Talladega County', 'name': 'Alabama ...</td>\n",
       "    </tr>\n",
       "    <tr>\n",
       "      <th>9</th>\n",
       "      <td>[{'latitude': 39.5034873, 'longitude': -84.743...</td>\n",
       "      <td>{'city': 'Oxford', 'name': 'Alba Craft Shop', ...</td>\n",
       "    </tr>\n",
       "    <tr>\n",
       "      <th>10</th>\n",
       "      <td>[{'latitude': 44.6208218, 'longitude': -123.12...</td>\n",
       "      <td>{'city': 'Albany', 'name': 'Albany, Oregon, FU...</td>\n",
       "    </tr>\n",
       "    <tr>\n",
       "      <th>11</th>\n",
       "      <td>[{'latitude': 40.641371, 'longitude': -80.2429...</td>\n",
       "      <td>{'city': 'Aliquippa', 'name': 'Aliquippa Forge...</td>\n",
       "    </tr>\n",
       "    <tr>\n",
       "      <th>12</th>\n",
       "      <td>[]</td>\n",
       "      <td>{'city': 'Dunkirk', 'name': 'Allegheny-Ludlum ...</td>\n",
       "    </tr>\n",
       "    <tr>\n",
       "      <th>13</th>\n",
       "      <td>[{'latitude': 42.714363, 'longitude': -73.7188...</td>\n",
       "      <td>{'city': 'Watervliet ', 'name': 'Allegheny-Lud...</td>\n",
       "    </tr>\n",
       "    <tr>\n",
       "      <th>14</th>\n",
       "      <td>[{'latitude': 37.171525, 'longitude': -88.7549...</td>\n",
       "      <td>{'city': 'Metropolis', 'name': 'Allied Chemica...</td>\n",
       "    </tr>\n",
       "    <tr>\n",
       "      <th>15</th>\n",
       "      <td>[{'latitude': 39.8085862, 'longitude': -75.434...</td>\n",
       "      <td>{'city': 'North Claymont', 'name': 'Allied Che...</td>\n",
       "    </tr>\n",
       "    <tr>\n",
       "      <th>16</th>\n",
       "      <td>[]</td>\n",
       "      <td>{'city': 'West Allis', 'name': 'Allis-Chalmers...</td>\n",
       "    </tr>\n",
       "    <tr>\n",
       "      <th>17</th>\n",
       "      <td>[{'latitude': 40.571816, 'longitude': -79.7555...</td>\n",
       "      <td>{'city': 'New Kensington', 'name': 'Aluminum C...</td>\n",
       "    </tr>\n",
       "    <tr>\n",
       "      <th>18</th>\n",
       "      <td>[]</td>\n",
       "      <td>{'city': 'Garwood', 'name': 'Aluminum Company ...</td>\n",
       "    </tr>\n",
       "    <tr>\n",
       "      <th>19</th>\n",
       "      <td>[{'latitude': 35.4091162, 'longitude': -107.79...</td>\n",
       "      <td>{'city': 'McKinley County', 'name': 'Ambrosia ...</td>\n",
       "    </tr>\n",
       "    <tr>\n",
       "      <th>20</th>\n",
       "      <td>[{'latitude': 51.4365605, 'longitude': 179.180...</td>\n",
       "      <td>{'city': 'Amchika Island', 'name': 'Amchitka I...</td>\n",
       "    </tr>\n",
       "    <tr>\n",
       "      <th>21</th>\n",
       "      <td>[{'latitude': 39.760683, 'longitude': -86.1872...</td>\n",
       "      <td>{'city': 'Indianapolis', 'name': 'American Bea...</td>\n",
       "    </tr>\n",
       "    <tr>\n",
       "      <th>22</th>\n",
       "      <td>[{'latitude': 41.555428, 'longitude': -73.0464...</td>\n",
       "      <td>{'city': 'Waterbury', 'name': 'American Brass ...</td>\n",
       "    </tr>\n",
       "    <tr>\n",
       "      <th>23</th>\n",
       "      <td>[]</td>\n",
       "      <td>{'city': 'Bridgeport', 'name': 'American Chain...</td>\n",
       "    </tr>\n",
       "    <tr>\n",
       "      <th>24</th>\n",
       "      <td>[{'latitude': 41.043905, 'longitude': -73.5272...</td>\n",
       "      <td>{'city': 'Stamford', 'name': 'American Cyanami...</td>\n",
       "    </tr>\n",
       "    <tr>\n",
       "      <th>25</th>\n",
       "      <td>[{'latitude': 40.646602, 'longitude': -74.0204...</td>\n",
       "      <td>{'city': 'Brooklyn', 'name': 'American Machine...</td>\n",
       "    </tr>\n",
       "    <tr>\n",
       "      <th>26</th>\n",
       "      <td>[{'latitude': 38.8160893, 'longitude': -77.040...</td>\n",
       "      <td>{'city': 'Alexandria', 'name': 'American Machi...</td>\n",
       "    </tr>\n",
       "    <tr>\n",
       "      <th>27</th>\n",
       "      <td>[]</td>\n",
       "      <td>{'city': 'Buffalo', 'name': 'American Machine ...</td>\n",
       "    </tr>\n",
       "    <tr>\n",
       "      <th>28</th>\n",
       "      <td>[{'latitude': 40.75693, 'longitude': -73.99023...</td>\n",
       "      <td>{'city': 'New York', 'name': 'American Machine...</td>\n",
       "    </tr>\n",
       "    <tr>\n",
       "      <th>29</th>\n",
       "      <td>[]</td>\n",
       "      <td>{'city': 'E. Moline', 'name': 'American Machin...</td>\n",
       "    </tr>\n",
       "  </tbody>\n",
       "</table>\n",
       "</div>"
      ],
      "text/plain": [
       "                                            locations  \\\n",
       "0   [{'latitude': 43.02938, 'longitude': -83.65525...   \n",
       "1                                                  []   \n",
       "2                                                  []   \n",
       "3   [{'latitude': 35.8888273, 'longitude': -106.30...   \n",
       "4   [{'latitude': 39.952953, 'longitude': -75.5927...   \n",
       "5   [{'latitude': 40.705709, 'longitude': -74.0110...   \n",
       "6   [{'latitude': 39.2351293, 'longitude': -84.446...   \n",
       "7   [{'latitude': 41.060828, 'longitude': -80.6372...   \n",
       "8   [{'latitude': None, 'longitude': None, 'postal...   \n",
       "9   [{'latitude': 39.5034873, 'longitude': -84.743...   \n",
       "10  [{'latitude': 44.6208218, 'longitude': -123.12...   \n",
       "11  [{'latitude': 40.641371, 'longitude': -80.2429...   \n",
       "12                                                 []   \n",
       "13  [{'latitude': 42.714363, 'longitude': -73.7188...   \n",
       "14  [{'latitude': 37.171525, 'longitude': -88.7549...   \n",
       "15  [{'latitude': 39.8085862, 'longitude': -75.434...   \n",
       "16                                                 []   \n",
       "17  [{'latitude': 40.571816, 'longitude': -79.7555...   \n",
       "18                                                 []   \n",
       "19  [{'latitude': 35.4091162, 'longitude': -107.79...   \n",
       "20  [{'latitude': 51.4365605, 'longitude': 179.180...   \n",
       "21  [{'latitude': 39.760683, 'longitude': -86.1872...   \n",
       "22  [{'latitude': 41.555428, 'longitude': -73.0464...   \n",
       "23                                                 []   \n",
       "24  [{'latitude': 41.043905, 'longitude': -73.5272...   \n",
       "25  [{'latitude': 40.646602, 'longitude': -74.0204...   \n",
       "26  [{'latitude': 38.8160893, 'longitude': -77.040...   \n",
       "27                                                 []   \n",
       "28  [{'latitude': 40.75693, 'longitude': -73.99023...   \n",
       "29                                                 []   \n",
       "\n",
       "                                                 site  \n",
       "0   {'city': 'Flint', 'name': 'AC Spark Plug, Dort...  \n",
       "1   {'city': 'Albuquerque', 'name': 'ACF Industrie...  \n",
       "2   {'city': 'Buffalo', 'name': 'ACF Industries, I...  \n",
       "3   {'city': 'Los Alamos', 'name': 'Acid/Pueblo Ca...  \n",
       "4   {'city': 'West Chester', 'name': 'Aeroprojects...  \n",
       "5   {'city': 'New York', 'name': 'African Metals',...  \n",
       "6   {'city': 'Evendale/Lockland', 'name': 'Air For...  \n",
       "7   {'city': 'Youngstown', 'name': 'Ajax Magnether...  \n",
       "8   {'city': 'Talladega County', 'name': 'Alabama ...  \n",
       "9   {'city': 'Oxford', 'name': 'Alba Craft Shop', ...  \n",
       "10  {'city': 'Albany', 'name': 'Albany, Oregon, FU...  \n",
       "11  {'city': 'Aliquippa', 'name': 'Aliquippa Forge...  \n",
       "12  {'city': 'Dunkirk', 'name': 'Allegheny-Ludlum ...  \n",
       "13  {'city': 'Watervliet ', 'name': 'Allegheny-Lud...  \n",
       "14  {'city': 'Metropolis', 'name': 'Allied Chemica...  \n",
       "15  {'city': 'North Claymont', 'name': 'Allied Che...  \n",
       "16  {'city': 'West Allis', 'name': 'Allis-Chalmers...  \n",
       "17  {'city': 'New Kensington', 'name': 'Aluminum C...  \n",
       "18  {'city': 'Garwood', 'name': 'Aluminum Company ...  \n",
       "19  {'city': 'McKinley County', 'name': 'Ambrosia ...  \n",
       "20  {'city': 'Amchika Island', 'name': 'Amchitka I...  \n",
       "21  {'city': 'Indianapolis', 'name': 'American Bea...  \n",
       "22  {'city': 'Waterbury', 'name': 'American Brass ...  \n",
       "23  {'city': 'Bridgeport', 'name': 'American Chain...  \n",
       "24  {'city': 'Stamford', 'name': 'American Cyanami...  \n",
       "25  {'city': 'Brooklyn', 'name': 'American Machine...  \n",
       "26  {'city': 'Alexandria', 'name': 'American Machi...  \n",
       "27  {'city': 'Buffalo', 'name': 'American Machine ...  \n",
       "28  {'city': 'New York', 'name': 'American Machine...  \n",
       "29  {'city': 'E. Moline', 'name': 'American Machin...  "
      ]
     },
     "execution_count": 72,
     "metadata": {},
     "output_type": "execute_result"
    }
   ],
   "source": [
    "json_data.head(30)"
   ]
  },
  {
   "cell_type": "code",
   "execution_count": null,
   "metadata": {
    "collapsed": true
   },
   "outputs": [],
   "source": [
    "site_lat = []\n",
    "site_lon = []\n",
    "locations_name = []\n",
    "colors = []\n",
    "\n",
    "for index in range(len(json_data)):\n",
    "    if json_data['locations'][index] != []:\n",
    "        site_lat.append(json_data['locations'][index][0]['latitude'])\n",
    "        site_lon.append(json_data['locations'][index][0]['longitude'])\n",
    "        locations_name.append(json_data['site'][index]['name'])\n",
    "        # add colors to list depending on 'rating' value\n",
    "        if json_data['site'][index]['rating'] == 0:\n",
    "            colors.append('rgb(247, 200, 108)')\n",
    "        elif json_data['site'][index]['rating'] == 1:\n",
    "            colors.append('rgb(79, 161, 69)')\n",
    "        elif json_data['site'][index]['rating'] == 2:\n",
    "            colors.append('rgb(255, 0, 0)')\n",
    "        else:\n",
    "            colors.append('rgb(0, 0, 0)')\n",
    "\n",
    "data = Data([\n",
    "    Scattermapbox(\n",
    "        lat=site_lat,\n",
    "        lon=site_lon,\n",
    "        mode='markers',\n",
    "        marker=Marker(\n",
    "            size=17,\n",
    "            color=colors,\n",
    "            opacity=0.7\n",
    "        ),\n",
    "        text=locations_name,\n",
    "        hoverinfo='text',\n",
    "        showlegend=False\n",
    "    ),\n",
    "    Scattermapbox(\n",
    "        lat=site_lat,\n",
    "        lon=site_lon,\n",
    "        mode='markers',\n",
    "        marker=Marker(\n",
    "            size=8,\n",
    "            color='rgb(242, 177, 172)',\n",
    "            opacity=0.7\n",
    "        ),\n",
    "        hoverinfo='skip',\n",
    "        showlegend=False\n",
    "    )\n",
    "])\n",
    "        \n",
    "layout = Layout(\n",
    "    title='All Nuclear Waste Sites and their Current Status',\n",
    "    autosize=True,\n",
    "    hovermode='closest',\n",
    "    mapbox=dict(\n",
    "        accesstoken=mapbox_access_token,\n",
    "        bearing=0,\n",
    "        center=dict(\n",
    "            lat=38,\n",
    "            lon=-94\n",
    "        ),\n",
    "        pitch=0,\n",
    "        zoom=3,\n",
    "        style='light'\n",
    "    )\n",
    ")\n",
    "\n",
    "fig = dict(data=data, layout=layout)\n",
    "py.iplot(fig, filename='All Nuclear Waste Sites and their Current Status')"
   ]
  },
  {
   "cell_type": "code",
   "execution_count": null,
   "metadata": {
    "collapsed": true
   },
   "outputs": [],
   "source": []
  },
  {
   "cell_type": "code",
   "execution_count": null,
   "metadata": {
    "collapsed": true
   },
   "outputs": [],
   "source": []
  },
  {
   "cell_type": "code",
   "execution_count": null,
   "metadata": {
    "collapsed": true
   },
   "outputs": [],
   "source": []
  }
 ],
 "metadata": {
  "kernelspec": {
   "display_name": "Python 3",
   "language": "python",
   "name": "python3"
  },
  "language_info": {
   "codemirror_mode": {
    "name": "ipython",
    "version": 3
   },
   "file_extension": ".py",
   "mimetype": "text/x-python",
   "name": "python",
   "nbconvert_exporter": "python",
   "pygments_lexer": "ipython3",
   "version": "3.6.1"
  },
  "toc": {
   "colors": {
    "hover_highlight": "#DAA520",
    "running_highlight": "#FF0000",
    "selected_highlight": "#FFD700"
   },
   "moveMenuLeft": true,
   "nav_menu": {
    "height": "13px",
    "width": "253px"
   },
   "navigate_menu": true,
   "number_sections": true,
   "sideBar": true,
   "threshold": "3",
   "toc_cell": false,
   "toc_position": {
    "height": "1040px",
    "left": "0px",
    "right": "987.012px",
    "top": "114px",
    "width": "213px"
   },
   "toc_section_display": "block",
   "toc_window_display": true,
   "widenNotebook": false
  }
 },
 "nbformat": 4,
 "nbformat_minor": 2
}
